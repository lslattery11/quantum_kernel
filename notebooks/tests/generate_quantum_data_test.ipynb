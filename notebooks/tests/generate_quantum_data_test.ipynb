{
 "cells": [
  {
   "cell_type": "code",
   "execution_count": 1,
   "metadata": {},
   "outputs": [],
   "source": [
    "import sys\n",
    "import numpy as np\n",
    "sys.path.append('/mnt/c/Users/lslat/Code/')\n",
    "sys.path.append('/mnt/c/Users/lslat/QiskitProjects/VariationalWavefunction/')\n",
    "from quantum_kernel.code.feature_maps import HeisenbergZZMultiScale,Heisenberg,IQP\n",
    "from quantum_kernel.code.kernel_measures.generate_data import quantum_pauli_data\n",
    "from quantum_kernel.code.utils import get_quantum_data\n",
    "from quantum_kernel.code.visualization_utils import aggregate_quantum_data,filter_df\n",
    "\n",
    "from qiskit.quantum_info.operators.symplectic import Pauli\n",
    "from qiskit.quantum_info.states.statevector import Statevector\n",
    "from sklearn.svm import SVC"
   ]
  },
  {
   "cell_type": "code",
   "execution_count": 2,
   "metadata": {},
   "outputs": [],
   "source": [
    "feature_dim=8\n",
    "n_trotter=10\n",
    "evo_time=1.0\n",
    "init_state='Haar_random'\n",
    "init_state_seed=0\n",
    "lam1=0.2\n",
    "lam2=0.2\n",
    "FeatureMap=HeisenbergZZMultiScale.HZZMultiscaleFeatureMap(feature_dim,n_trotter,evo_time,init_state,init_state_seed,0,lam1=lam1,lam2=lam2)"
   ]
  },
  {
   "cell_type": "code",
   "execution_count": 3,
   "metadata": {},
   "outputs": [],
   "source": [
    "n_points=100\n",
    "rdm_qubits  = [[0]]\n",
    "operators = ['X']\n",
    "noise=0.2\n",
    "x_vec,y_vec=quantum_pauli_data(FeatureMap,n_points,e=noise,operators=operators,rdm_qubits=rdm_qubits,batch_size=10)"
   ]
  },
  {
   "cell_type": "code",
   "execution_count": 4,
   "metadata": {},
   "outputs": [],
   "source": [
    "feature_dim=8\n",
    "n_trotter=10\n",
    "evo_time=1.0\n",
    "init_state='Haar_random'\n",
    "init_state_seed=0\n",
    "lam1=0.2\n",
    "lam2=0.2\n",
    "FeatureMap=HeisenbergZZMultiScale.HZZMultiscaleFeatureMap(feature_dim,n_trotter,evo_time,init_state,init_state_seed,0,lam1=lam1,lam2=lam2)"
   ]
  },
  {
   "cell_type": "code",
   "execution_count": 5,
   "metadata": {},
   "outputs": [],
   "source": [
    "n_points=100\n",
    "rdm_qubits  = [[0]]\n",
    "operators = ['X']\n",
    "noise=0.2\n",
    "x_vec2,y_vec2=quantum_pauli_data(FeatureMap,n_points,e=noise,operators=operators,rdm_qubits=rdm_qubits,batch_size=100)"
   ]
  },
  {
   "cell_type": "code",
   "execution_count": 6,
   "metadata": {},
   "outputs": [
    {
     "data": {
      "text/plain": [
       "(array([ 3.,  5., 13., 20., 26., 13., 12.,  4.,  3.,  1.]),\n",
       " array([-0.32392031, -0.23961532, -0.15531034, -0.07100536,  0.01329963,\n",
       "         0.09760461,  0.1819096 ,  0.26621458,  0.35051957,  0.43482455,\n",
       "         0.51912953]),\n",
       " <BarContainer object of 10 artists>)"
      ]
     },
     "execution_count": 6,
     "metadata": {},
     "output_type": "execute_result"
    },
    {
     "data": {
      "image/png": "[encoded data removed]",
      "text/plain": [
       "<Figure size 432x288 with 1 Axes>"
      ]
     },
     "metadata": {
      "needs_background": "light"
     },
     "output_type": "display_data"
    }
   ],
   "source": [
    "import matplotlib.pyplot as plt\n",
    "plt.hist(y_vec)"
   ]
  },
  {
   "cell_type": "code",
   "execution_count": 7,
   "metadata": {},
   "outputs": [
    {
     "name": "stdout",
     "output_type": "stream",
     "text": [
      "True\n",
      "True\n"
     ]
    }
   ],
   "source": [
    "print(np.all(x_vec==x_vec2))\n",
    "print(np.all(y_vec==y_vec2))"
   ]
  }
 ],
 "metadata": {
  "interpreter": {
   "hash": "55052c4936076760cf710cd2b620e3a0b8009f80cb8b04b58f47f6aa579d5b33"
  },
  "kernelspec": {
   "display_name": "Python 3.9.12",
   "language": "python",
   "name": "python3"
  },
  "language_info": {
   "codemirror_mode": {
    "name": "ipython",
    "version": 3
   },
   "file_extension": ".py",
   "mimetype": "text/x-python",
   "name": "python",
   "nbconvert_exporter": "python",
   "pygments_lexer": "ipython3",
   "version": "3.9.12"
  },
  "orig_nbformat": 4
 },
 "nbformat": 4,
 "nbformat_minor": 2
}
