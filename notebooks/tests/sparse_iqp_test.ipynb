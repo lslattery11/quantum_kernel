{
 "cells": [
  {
   "cell_type": "code",
   "execution_count": 1,
   "metadata": {},
   "outputs": [],
   "source": [
    "import sys\n",
    "sys.path.append('C:/Users/lslat/Code/')\n",
    "sys.path.append('/mnt/c/Users/lslat/Code/')\n",
    "from quantum_kernel.code.feature_maps import IQP\n",
    "from quantum_kernel.code.feature_maps import Heisenberg\n",
    "from qiskit.circuit.library.data_preparation.pauli_feature_map import PauliFeatureMap\n",
    "from quantum_kernel.code.utils import get_quantum_kernel"
   ]
  },
  {
   "cell_type": "code",
   "execution_count": 6,
   "metadata": {},
   "outputs": [],
   "source": [
    "test=IQP.Sparse_IQP(6,1,\"full\",1,int_time_scale=0.2)"
   ]
  },
  {
   "cell_type": "code",
   "execution_count": 7,
   "metadata": {},
   "outputs": [
    {
     "data": {
      "text/html": [
       "<pre style=\"word-wrap: normal;white-space: pre;background: #fff0;line-height: 1.1;font-family: &quot;Courier New&quot;,Courier,monospace\">     ┌───┐┌─────────────┐                                                    \n",
       "q_0: ┤ H ├┤ P(2.0*x[0]) ├──■─────────────────────────────────────────■───────\n",
       "     ├───┤├─────────────┤  │                                         │       \n",
       "q_1: ┤ H ├┤ P(2.0*x[1]) ├──┼────■────────────────────────────────────┼────■──\n",
       "     ├───┤├─────────────┤┌─┴─┐  │  ┌──────────────────────────────┐┌─┴─┐  │  \n",
       "q_2: ┤ H ├┤ P(2.0*x[2]) ├┤ X ├──┼──┤ P(0.4*(π - x[0])*(π - x[2])) ├┤ X ├──┼──\n",
       "     ├───┤├─────────────┤└───┘  │  └──────────────────────────────┘└───┘  │  \n",
       "q_3: ┤ H ├┤ P(2.0*x[3]) ├──■────┼────────────────────────────────────■────┼──\n",
       "     ├───┤├─────────────┤┌─┴─┐  │  ┌──────────────────────────────┐┌─┴─┐  │  \n",
       "q_4: ┤ H ├┤ P(2.0*x[4]) ├┤ X ├──┼──┤ P(0.4*(π - x[3])*(π - x[4])) ├┤ X ├──┼──\n",
       "     ├───┤├─────────────┤└───┘┌─┴─┐├──────────────────────────────┤└───┘┌─┴─┐\n",
       "q_5: ┤ H ├┤ P(2.0*x[5]) ├─────┤ X ├┤ P(0.4*(π - x[1])*(π - x[5])) ├─────┤ X ├\n",
       "     └───┘└─────────────┘     └───┘└──────────────────────────────┘     └───┘</pre>"
      ],
      "text/plain": [
       "     ┌───┐┌─────────────┐                                                    \n",
       "q_0: ┤ H ├┤ P(2.0*x[0]) ├──■─────────────────────────────────────────■───────\n",
       "     ├───┤├─────────────┤  │                                         │       \n",
       "q_1: ┤ H ├┤ P(2.0*x[1]) ├──┼────■────────────────────────────────────┼────■──\n",
       "     ├───┤├─────────────┤┌─┴─┐  │  ┌──────────────────────────────┐┌─┴─┐  │  \n",
       "q_2: ┤ H ├┤ P(2.0*x[2]) ├┤ X ├──┼──┤ P(0.4*(π - x[0])*(π - x[2])) ├┤ X ├──┼──\n",
       "     ├───┤├─────────────┤└───┘  │  └──────────────────────────────┘└───┘  │  \n",
       "q_3: ┤ H ├┤ P(2.0*x[3]) ├──■────┼────────────────────────────────────■────┼──\n",
       "     ├───┤├─────────────┤┌─┴─┐  │  ┌──────────────────────────────┐┌─┴─┐  │  \n",
       "q_4: ┤ H ├┤ P(2.0*x[4]) ├┤ X ├──┼──┤ P(0.4*(π - x[3])*(π - x[4])) ├┤ X ├──┼──\n",
       "     ├───┤├─────────────┤└───┘┌─┴─┐├──────────────────────────────┤└───┘┌─┴─┐\n",
       "q_5: ┤ H ├┤ P(2.0*x[5]) ├─────┤ X ├┤ P(0.4*(π - x[1])*(π - x[5])) ├─────┤ X ├\n",
       "     └───┘└─────────────┘     └───┘└──────────────────────────────┘     └───┘"
      ]
     },
     "execution_count": 7,
     "metadata": {},
     "output_type": "execute_result"
    }
   ],
   "source": [
    "test.decompose().draw()"
   ]
  }
 ],
 "metadata": {
  "interpreter": {
   "hash": "55052c4936076760cf710cd2b620e3a0b8009f80cb8b04b58f47f6aa579d5b33"
  },
  "kernelspec": {
   "display_name": "Python 3.9.12",
   "language": "python",
   "name": "python3"
  },
  "language_info": {
   "codemirror_mode": {
    "name": "ipython",
    "version": 3
   },
   "file_extension": ".py",
   "mimetype": "text/x-python",
   "name": "python",
   "nbconvert_exporter": "python",
   "pygments_lexer": "ipython3",
   "version": "3.9.12"
  },
  "orig_nbformat": 4
 },
 "nbformat": 4,
 "nbformat_minor": 2
}
