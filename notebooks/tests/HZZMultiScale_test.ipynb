{
 "cells": [
  {
   "cell_type": "code",
   "execution_count": 5,
   "metadata": {},
   "outputs": [],
   "source": [
    "import sys\n",
    "import numpy as np\n",
    "sys.path.append('C:/Users/lslat/Code/')\n",
    "sys.path.append('/mnt/c/Users/lslat/Code/')\n",
    "sys.path.append('/mnt/c/Users/lslat/QiskitProjects/VariationalWavefunction/')\n",
    "from quantum_kernel.code.feature_maps import HeisenbergZZMultiScale,Heisenberg,IQP\n",
    "from quantum_kernel.code.utils import get_dataset,get_quantum_kernel,get_projected_quantum_kernel\n",
    "from quantum_kernel.code.kernel_measures.kernel_geometry import tdm_average,tdm_of_average\n",
    "from sklearn.svm import SVC"
   ]
  },
  {
   "cell_type": "code",
   "execution_count": 6,
   "metadata": {},
   "outputs": [],
   "source": [
    "feature_dim=10\n",
    "n_trotter=4\n",
    "evo_time=1.0\n",
    "init_state='Basis_random'\n",
    "init_state_seed=42\n",
    "lam1=1.0\n",
    "lam2=0.0\n",
    "FeatureMap=HeisenbergZZMultiScale.HZZMultiscaleFeatureMap(feature_dim,n_trotter,evo_time,init_state,init_state_seed,0,lam1=lam1,lam2=lam2)\n",
    "#FeatureMap=Heisenberg.Heisenberg1DFeatureMap(feature_dim,n_trotter,evo_time,init_state,init_state_seed)\n",
    "#FeatureMap=IQP.Sparse_IQP(feature_dim,2,'full','max',1.0)"
   ]
  },
  {
   "cell_type": "code",
   "execution_count": 7,
   "metadata": {},
   "outputs": [],
   "source": [
    "x_train, x_test, y_train, y_test = get_dataset('plasticc', feature_dim, 800, 200)\n",
    "x_train *= FeatureMap.scaling_factor\n",
    "x_test *= FeatureMap.scaling_factor\n",
    "qkern=get_quantum_kernel(FeatureMap,simulation_method='statevector',batch_size=25)"
   ]
  },
  {
   "cell_type": "code",
   "execution_count": 8,
   "metadata": {},
   "outputs": [
    {
     "name": "stdout",
     "output_type": "stream",
     "text": [
      "Score: 0.66\n"
     ]
    }
   ],
   "source": [
    "qkern_matrix_train=qkern.evaluate(x_vec=x_train,y_vec=x_train)\n",
    "qkern_matrix_test = qkern.evaluate(x_vec=x_test, y_vec=x_train)\n",
    "qsvc = SVC(kernel='precomputed')\n",
    "qsvc.fit(qkern_matrix_train, y_train)\n",
    "score = qsvc.score(qkern_matrix_test, y_test)\n",
    "print(f\"Score: {score}\")\n"
   ]
  },
  {
   "cell_type": "code",
   "execution_count": 9,
   "metadata": {},
   "outputs": [],
   "source": [
    "qkern=get_projected_quantum_kernel(FeatureMap,simulation_method='statevector',batch_size=25)\n"
   ]
  },
  {
   "cell_type": "code",
   "execution_count": 10,
   "metadata": {},
   "outputs": [
    {
     "name": "stdout",
     "output_type": "stream",
     "text": [
      "Score: 0.66\n"
     ]
    }
   ],
   "source": [
    "qkern_matrix_train,rdms=qkern.evaluate(x_vec=x_train,y_vec=x_train,return_rdms=True)\n",
    "qkern_matrix_test = qkern.evaluate(x_vec=x_test, y_vec=x_train)\n",
    "qsvc = SVC(kernel='precomputed')\n",
    "qsvc.fit(qkern_matrix_train, y_train)\n",
    "score = qsvc.score(qkern_matrix_test, y_test)\n",
    "print(f\"Score: {score}\")"
   ]
  }
 ],
 "metadata": {
  "interpreter": {
   "hash": "55052c4936076760cf710cd2b620e3a0b8009f80cb8b04b58f47f6aa579d5b33"
  },
  "kernelspec": {
   "display_name": "Python 3.9.0",
   "language": "python",
   "name": "python3"
  },
  "language_info": {
   "codemirror_mode": {
    "name": "ipython",
    "version": 3
   },
   "file_extension": ".py",
   "mimetype": "text/x-python",
   "name": "python",
   "nbconvert_exporter": "python",
   "pygments_lexer": "ipython3",
   "version": "3.9.0"
  },
  "orig_nbformat": 4
 },
 "nbformat": 4,
 "nbformat_minor": 2
}
