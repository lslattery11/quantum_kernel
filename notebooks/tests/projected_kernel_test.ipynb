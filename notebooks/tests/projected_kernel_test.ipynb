{
 "cells": [
  {
   "cell_type": "code",
   "execution_count": 1,
   "metadata": {},
   "outputs": [],
   "source": [
    "import sys\n",
    "import numpy as np\n",
    "sys.path.append('C:/Users/lslat/Code/')\n",
    "sys.path.append('/mnt/c/Users/lslat/Code/')\n",
    "sys.path.append('/mnt/c/Users/lslat/QiskitProjects/VariationalWavefunction/')\n",
    "from quantum_kernel.code.feature_maps import IQP\n",
    "from quantum_kernel.code.feature_maps import Heisenberg\n",
    "from quantum_kernel.code.utils import get_quantum_kernel,get_projected_quantum_kernel\n",
    "from quantum_kernel.code.quantum_kernels import projected_kernels\n",
    "from quantum_kernel.code.utils import get_dataset\n",
    "from qiskit.circuit import Parameter,ParameterVector\n",
    "from qiskit.circuit.library.data_preparation.pauli_feature_map import PauliFeatureMap\n",
    "from sklearn.svm import SVC"
   ]
  },
  {
   "cell_type": "code",
   "execution_count": 2,
   "metadata": {},
   "outputs": [],
   "source": [
    "test=IQP.Sparse_IQP(6,1,\"full\",1,int_time_scale=0.2)\n",
    "#test=PauliFeatureMap(6,2)"
   ]
  },
  {
   "cell_type": "code",
   "execution_count": 3,
   "metadata": {},
   "outputs": [],
   "source": [
    "test_kernel=get_projected_quantum_kernel(test,simulation_method='density_matrix',batch_size=5000)\n",
    "test_kernel2=get_quantum_kernel(test,simulation_method='statevector')"
   ]
  },
  {
   "cell_type": "code",
   "execution_count": 4,
   "metadata": {},
   "outputs": [],
   "source": [
    "x_train, x_test, y_train, y_test = get_dataset('plasticc', 6, 800, 200)"
   ]
  },
  {
   "cell_type": "code",
   "execution_count": 5,
   "metadata": {},
   "outputs": [
    {
     "name": "stdout",
     "output_type": "stream",
     "text": [
      "<class 'qiskit.result.result.Result'>\n"
     ]
    },
    {
     "ename": "TypeError",
     "evalue": "_compute_overlap() missing 1 required positional argument: 'measurement_basis1'",
     "output_type": "error",
     "traceback": [
      "\u001b[0;31m---------------------------------------------------------------------------\u001b[0m",
      "\u001b[0;31mTypeError\u001b[0m                                 Traceback (most recent call last)",
      "\u001b[1;32m/mnt/c/Users/lslat/Code/quantum_kernel/notebooks/tests/projected_kernel_test.ipynb Cell 5'\u001b[0m in \u001b[0;36m<cell line: 1>\u001b[0;34m()\u001b[0m\n\u001b[0;32m----> <a href='vscode-notebook-cell://wsl%2Bubuntu/mnt/c/Users/lslat/Code/quantum_kernel/notebooks/tests/projected_kernel_test.ipynb#ch0000011vscode-remote?line=0'>1</a>\u001b[0m kernel_matrix\u001b[39m=\u001b[39mtest_kernel\u001b[39m.\u001b[39;49mevaluate(x_vec\u001b[39m=\u001b[39;49mx_train,y_vec\u001b[39m=\u001b[39;49mx_train)\n",
      "File \u001b[0;32m/mnt/c/Users/lslat/Code/quantum_kernel/code/quantum_kernels/projected_kernels.py:322\u001b[0m, in \u001b[0;36mRDM1ProjectedKernel.evaluate\u001b[0;34m(self, x_vec, y_vec)\u001b[0m\n\u001b[1;32m    <a href='file:///mnt/c/Users/lslat/Code/quantum_kernel/code/quantum_kernels/projected_kernels.py?line=318'>319</a>\u001b[0m     \u001b[39m#need to append results together.\u001b[39;00m\n\u001b[1;32m    <a href='file:///mnt/c/Users/lslat/Code/quantum_kernel/code/quantum_kernels/projected_kernels.py?line=320'>321</a>\u001b[0m offset \u001b[39m=\u001b[39m \u001b[39m0\u001b[39m \u001b[39mif\u001b[39;00m is_symmetric \u001b[39melse\u001b[39;00m \u001b[39mlen\u001b[39m(x_vec)\n\u001b[0;32m--> <a href='file:///mnt/c/Users/lslat/Code/quantum_kernel/code/quantum_kernels/projected_kernels.py?line=321'>322</a>\u001b[0m matrix_elements \u001b[39m=\u001b[39m [\n\u001b[1;32m    <a href='file:///mnt/c/Users/lslat/Code/quantum_kernel/code/quantum_kernels/projected_kernels.py?line=322'>323</a>\u001b[0m     \u001b[39mself\u001b[39m\u001b[39m.\u001b[39m_compute_overlap(idx, results, is_statevector_sim, measurement_basis0,measurement_basis1)\n\u001b[1;32m    <a href='file:///mnt/c/Users/lslat/Code/quantum_kernel/code/quantum_kernels/projected_kernels.py?line=323'>324</a>\u001b[0m     \u001b[39mfor\u001b[39;00m idx \u001b[39min\u001b[39;00m \u001b[39mlist\u001b[39m(\u001b[39mzip\u001b[39m(mus, nus \u001b[39m+\u001b[39m offset))\n\u001b[1;32m    <a href='file:///mnt/c/Users/lslat/Code/quantum_kernel/code/quantum_kernels/projected_kernels.py?line=324'>325</a>\u001b[0m ]\n\u001b[1;32m    <a href='file:///mnt/c/Users/lslat/Code/quantum_kernel/code/quantum_kernels/projected_kernels.py?line=325'>326</a>\u001b[0m \u001b[39mfor\u001b[39;00m i, j, value \u001b[39min\u001b[39;00m \u001b[39mzip\u001b[39m(mus, nus, matrix_elements):\n\u001b[1;32m    <a href='file:///mnt/c/Users/lslat/Code/quantum_kernel/code/quantum_kernels/projected_kernels.py?line=326'>327</a>\u001b[0m     kernel[i, j] \u001b[39m=\u001b[39m value\n",
      "File \u001b[0;32m/mnt/c/Users/lslat/Code/quantum_kernel/code/quantum_kernels/projected_kernels.py:323\u001b[0m, in \u001b[0;36m<listcomp>\u001b[0;34m(.0)\u001b[0m\n\u001b[1;32m    <a href='file:///mnt/c/Users/lslat/Code/quantum_kernel/code/quantum_kernels/projected_kernels.py?line=318'>319</a>\u001b[0m     \u001b[39m#need to append results together.\u001b[39;00m\n\u001b[1;32m    <a href='file:///mnt/c/Users/lslat/Code/quantum_kernel/code/quantum_kernels/projected_kernels.py?line=320'>321</a>\u001b[0m offset \u001b[39m=\u001b[39m \u001b[39m0\u001b[39m \u001b[39mif\u001b[39;00m is_symmetric \u001b[39melse\u001b[39;00m \u001b[39mlen\u001b[39m(x_vec)\n\u001b[1;32m    <a href='file:///mnt/c/Users/lslat/Code/quantum_kernel/code/quantum_kernels/projected_kernels.py?line=321'>322</a>\u001b[0m matrix_elements \u001b[39m=\u001b[39m [\n\u001b[0;32m--> <a href='file:///mnt/c/Users/lslat/Code/quantum_kernel/code/quantum_kernels/projected_kernels.py?line=322'>323</a>\u001b[0m     \u001b[39mself\u001b[39;49m\u001b[39m.\u001b[39;49m_compute_overlap(idx, results, is_statevector_sim, measurement_basis0,measurement_basis1)\n\u001b[1;32m    <a href='file:///mnt/c/Users/lslat/Code/quantum_kernel/code/quantum_kernels/projected_kernels.py?line=323'>324</a>\u001b[0m     \u001b[39mfor\u001b[39;00m idx \u001b[39min\u001b[39;00m \u001b[39mlist\u001b[39m(\u001b[39mzip\u001b[39m(mus, nus \u001b[39m+\u001b[39m offset))\n\u001b[1;32m    <a href='file:///mnt/c/Users/lslat/Code/quantum_kernel/code/quantum_kernels/projected_kernels.py?line=324'>325</a>\u001b[0m ]\n\u001b[1;32m    <a href='file:///mnt/c/Users/lslat/Code/quantum_kernel/code/quantum_kernels/projected_kernels.py?line=325'>326</a>\u001b[0m \u001b[39mfor\u001b[39;00m i, j, value \u001b[39min\u001b[39;00m \u001b[39mzip\u001b[39m(mus, nus, matrix_elements):\n\u001b[1;32m    <a href='file:///mnt/c/Users/lslat/Code/quantum_kernel/code/quantum_kernels/projected_kernels.py?line=326'>327</a>\u001b[0m     kernel[i, j] \u001b[39m=\u001b[39m value\n",
      "\u001b[0;31mTypeError\u001b[0m: _compute_overlap() missing 1 required positional argument: 'measurement_basis1'"
     ]
    }
   ],
   "source": [
    "kernel_matrix=test_kernel.evaluate(x_vec=x_train,y_vec=x_train)"
   ]
  },
  {
   "cell_type": "code",
   "execution_count": null,
   "metadata": {},
   "outputs": [
    {
     "ename": "ValueError",
     "evalue": "Found input variables with inconsistent numbers of samples: [2, 800]",
     "output_type": "error",
     "traceback": [
      "\u001b[0;31m---------------------------------------------------------------------------\u001b[0m",
      "\u001b[0;31mValueError\u001b[0m                                Traceback (most recent call last)",
      "\u001b[1;32m/mnt/c/Users/lslat/Code/quantum_kernel/notebooks/tests/projected_kernel_test.ipynb Cell 6'\u001b[0m in \u001b[0;36m<cell line: 2>\u001b[0;34m()\u001b[0m\n\u001b[1;32m      <a href='vscode-notebook-cell://wsl%2Bubuntu/mnt/c/Users/lslat/Code/quantum_kernel/notebooks/tests/projected_kernel_test.ipynb#ch0000027vscode-remote?line=0'>1</a>\u001b[0m qsvc \u001b[39m=\u001b[39m SVC(kernel\u001b[39m=\u001b[39m\u001b[39m'\u001b[39m\u001b[39mprecomputed\u001b[39m\u001b[39m'\u001b[39m)\n\u001b[0;32m----> <a href='vscode-notebook-cell://wsl%2Bubuntu/mnt/c/Users/lslat/Code/quantum_kernel/notebooks/tests/projected_kernel_test.ipynb#ch0000027vscode-remote?line=1'>2</a>\u001b[0m qsvc\u001b[39m.\u001b[39;49mfit(kernel_matrix, y_train)\n\u001b[1;32m      <a href='vscode-notebook-cell://wsl%2Bubuntu/mnt/c/Users/lslat/Code/quantum_kernel/notebooks/tests/projected_kernel_test.ipynb#ch0000027vscode-remote?line=2'>3</a>\u001b[0m score \u001b[39m=\u001b[39m qsvc\u001b[39m.\u001b[39mscore(kernel_matrix, y_test)\n\u001b[1;32m      <a href='vscode-notebook-cell://wsl%2Bubuntu/mnt/c/Users/lslat/Code/quantum_kernel/notebooks/tests/projected_kernel_test.ipynb#ch0000027vscode-remote?line=3'>4</a>\u001b[0m \u001b[39mprint\u001b[39m(\u001b[39mf\u001b[39m\u001b[39m\"\u001b[39m\u001b[39mScore: \u001b[39m\u001b[39m{\u001b[39;00mscore\u001b[39m}\u001b[39;00m\u001b[39m\"\u001b[39m)\n",
      "File \u001b[0;32m~/anaconda3/envs/quantum_kernel/lib/python3.9/site-packages/sklearn/svm/_base.py:169\u001b[0m, in \u001b[0;36mBaseLibSVM.fit\u001b[0;34m(self, X, y, sample_weight)\u001b[0m\n\u001b[1;32m    <a href='file:///home/lslattery/anaconda3/envs/quantum_kernel/lib/python3.9/site-packages/sklearn/svm/_base.py?line=166'>167</a>\u001b[0m     check_consistent_length(X, y)\n\u001b[1;32m    <a href='file:///home/lslattery/anaconda3/envs/quantum_kernel/lib/python3.9/site-packages/sklearn/svm/_base.py?line=167'>168</a>\u001b[0m \u001b[39melse\u001b[39;00m:\n\u001b[0;32m--> <a href='file:///home/lslattery/anaconda3/envs/quantum_kernel/lib/python3.9/site-packages/sklearn/svm/_base.py?line=168'>169</a>\u001b[0m     X, y \u001b[39m=\u001b[39m \u001b[39mself\u001b[39;49m\u001b[39m.\u001b[39;49m_validate_data(X, y, dtype\u001b[39m=\u001b[39;49mnp\u001b[39m.\u001b[39;49mfloat64,\n\u001b[1;32m    <a href='file:///home/lslattery/anaconda3/envs/quantum_kernel/lib/python3.9/site-packages/sklearn/svm/_base.py?line=169'>170</a>\u001b[0m                                order\u001b[39m=\u001b[39;49m\u001b[39m'\u001b[39;49m\u001b[39mC\u001b[39;49m\u001b[39m'\u001b[39;49m, accept_sparse\u001b[39m=\u001b[39;49m\u001b[39m'\u001b[39;49m\u001b[39mcsr\u001b[39;49m\u001b[39m'\u001b[39;49m,\n\u001b[1;32m    <a href='file:///home/lslattery/anaconda3/envs/quantum_kernel/lib/python3.9/site-packages/sklearn/svm/_base.py?line=170'>171</a>\u001b[0m                                accept_large_sparse\u001b[39m=\u001b[39;49m\u001b[39mFalse\u001b[39;49;00m)\n\u001b[1;32m    <a href='file:///home/lslattery/anaconda3/envs/quantum_kernel/lib/python3.9/site-packages/sklearn/svm/_base.py?line=172'>173</a>\u001b[0m y \u001b[39m=\u001b[39m \u001b[39mself\u001b[39m\u001b[39m.\u001b[39m_validate_targets(y)\n\u001b[1;32m    <a href='file:///home/lslattery/anaconda3/envs/quantum_kernel/lib/python3.9/site-packages/sklearn/svm/_base.py?line=174'>175</a>\u001b[0m sample_weight \u001b[39m=\u001b[39m np\u001b[39m.\u001b[39masarray([]\n\u001b[1;32m    <a href='file:///home/lslattery/anaconda3/envs/quantum_kernel/lib/python3.9/site-packages/sklearn/svm/_base.py?line=175'>176</a>\u001b[0m                            \u001b[39mif\u001b[39;00m sample_weight \u001b[39mis\u001b[39;00m \u001b[39mNone\u001b[39;00m\n\u001b[1;32m    <a href='file:///home/lslattery/anaconda3/envs/quantum_kernel/lib/python3.9/site-packages/sklearn/svm/_base.py?line=176'>177</a>\u001b[0m                            \u001b[39melse\u001b[39;00m sample_weight, dtype\u001b[39m=\u001b[39mnp\u001b[39m.\u001b[39mfloat64)\n",
      "File \u001b[0;32m~/anaconda3/envs/quantum_kernel/lib/python3.9/site-packages/sklearn/base.py:433\u001b[0m, in \u001b[0;36mBaseEstimator._validate_data\u001b[0;34m(self, X, y, reset, validate_separately, **check_params)\u001b[0m\n\u001b[1;32m    <a href='file:///home/lslattery/anaconda3/envs/quantum_kernel/lib/python3.9/site-packages/sklearn/base.py?line=430'>431</a>\u001b[0m         y \u001b[39m=\u001b[39m check_array(y, \u001b[39m*\u001b[39m\u001b[39m*\u001b[39mcheck_y_params)\n\u001b[1;32m    <a href='file:///home/lslattery/anaconda3/envs/quantum_kernel/lib/python3.9/site-packages/sklearn/base.py?line=431'>432</a>\u001b[0m     \u001b[39melse\u001b[39;00m:\n\u001b[0;32m--> <a href='file:///home/lslattery/anaconda3/envs/quantum_kernel/lib/python3.9/site-packages/sklearn/base.py?line=432'>433</a>\u001b[0m         X, y \u001b[39m=\u001b[39m check_X_y(X, y, \u001b[39m*\u001b[39;49m\u001b[39m*\u001b[39;49mcheck_params)\n\u001b[1;32m    <a href='file:///home/lslattery/anaconda3/envs/quantum_kernel/lib/python3.9/site-packages/sklearn/base.py?line=433'>434</a>\u001b[0m     out \u001b[39m=\u001b[39m X, y\n\u001b[1;32m    <a href='file:///home/lslattery/anaconda3/envs/quantum_kernel/lib/python3.9/site-packages/sklearn/base.py?line=435'>436</a>\u001b[0m \u001b[39mif\u001b[39;00m check_params\u001b[39m.\u001b[39mget(\u001b[39m'\u001b[39m\u001b[39mensure_2d\u001b[39m\u001b[39m'\u001b[39m, \u001b[39mTrue\u001b[39;00m):\n",
      "File \u001b[0;32m~/anaconda3/envs/quantum_kernel/lib/python3.9/site-packages/sklearn/utils/validation.py:63\u001b[0m, in \u001b[0;36m_deprecate_positional_args.<locals>._inner_deprecate_positional_args.<locals>.inner_f\u001b[0;34m(*args, **kwargs)\u001b[0m\n\u001b[1;32m     <a href='file:///home/lslattery/anaconda3/envs/quantum_kernel/lib/python3.9/site-packages/sklearn/utils/validation.py?line=60'>61</a>\u001b[0m extra_args \u001b[39m=\u001b[39m \u001b[39mlen\u001b[39m(args) \u001b[39m-\u001b[39m \u001b[39mlen\u001b[39m(all_args)\n\u001b[1;32m     <a href='file:///home/lslattery/anaconda3/envs/quantum_kernel/lib/python3.9/site-packages/sklearn/utils/validation.py?line=61'>62</a>\u001b[0m \u001b[39mif\u001b[39;00m extra_args \u001b[39m<\u001b[39m\u001b[39m=\u001b[39m \u001b[39m0\u001b[39m:\n\u001b[0;32m---> <a href='file:///home/lslattery/anaconda3/envs/quantum_kernel/lib/python3.9/site-packages/sklearn/utils/validation.py?line=62'>63</a>\u001b[0m     \u001b[39mreturn\u001b[39;00m f(\u001b[39m*\u001b[39;49margs, \u001b[39m*\u001b[39;49m\u001b[39m*\u001b[39;49mkwargs)\n\u001b[1;32m     <a href='file:///home/lslattery/anaconda3/envs/quantum_kernel/lib/python3.9/site-packages/sklearn/utils/validation.py?line=64'>65</a>\u001b[0m \u001b[39m# extra_args > 0\u001b[39;00m\n\u001b[1;32m     <a href='file:///home/lslattery/anaconda3/envs/quantum_kernel/lib/python3.9/site-packages/sklearn/utils/validation.py?line=65'>66</a>\u001b[0m args_msg \u001b[39m=\u001b[39m [\u001b[39m'\u001b[39m\u001b[39m{}\u001b[39;00m\u001b[39m=\u001b[39m\u001b[39m{}\u001b[39;00m\u001b[39m'\u001b[39m\u001b[39m.\u001b[39mformat(name, arg)\n\u001b[1;32m     <a href='file:///home/lslattery/anaconda3/envs/quantum_kernel/lib/python3.9/site-packages/sklearn/utils/validation.py?line=66'>67</a>\u001b[0m             \u001b[39mfor\u001b[39;00m name, arg \u001b[39min\u001b[39;00m \u001b[39mzip\u001b[39m(kwonly_args[:extra_args],\n\u001b[1;32m     <a href='file:///home/lslattery/anaconda3/envs/quantum_kernel/lib/python3.9/site-packages/sklearn/utils/validation.py?line=67'>68</a>\u001b[0m                                  args[\u001b[39m-\u001b[39mextra_args:])]\n",
      "File \u001b[0;32m~/anaconda3/envs/quantum_kernel/lib/python3.9/site-packages/sklearn/utils/validation.py:831\u001b[0m, in \u001b[0;36mcheck_X_y\u001b[0;34m(X, y, accept_sparse, accept_large_sparse, dtype, order, copy, force_all_finite, ensure_2d, allow_nd, multi_output, ensure_min_samples, ensure_min_features, y_numeric, estimator)\u001b[0m\n\u001b[1;32m    <a href='file:///home/lslattery/anaconda3/envs/quantum_kernel/lib/python3.9/site-packages/sklearn/utils/validation.py?line=827'>828</a>\u001b[0m \u001b[39mif\u001b[39;00m y_numeric \u001b[39mand\u001b[39;00m y\u001b[39m.\u001b[39mdtype\u001b[39m.\u001b[39mkind \u001b[39m==\u001b[39m \u001b[39m'\u001b[39m\u001b[39mO\u001b[39m\u001b[39m'\u001b[39m:\n\u001b[1;32m    <a href='file:///home/lslattery/anaconda3/envs/quantum_kernel/lib/python3.9/site-packages/sklearn/utils/validation.py?line=828'>829</a>\u001b[0m     y \u001b[39m=\u001b[39m y\u001b[39m.\u001b[39mastype(np\u001b[39m.\u001b[39mfloat64)\n\u001b[0;32m--> <a href='file:///home/lslattery/anaconda3/envs/quantum_kernel/lib/python3.9/site-packages/sklearn/utils/validation.py?line=830'>831</a>\u001b[0m check_consistent_length(X, y)\n\u001b[1;32m    <a href='file:///home/lslattery/anaconda3/envs/quantum_kernel/lib/python3.9/site-packages/sklearn/utils/validation.py?line=832'>833</a>\u001b[0m \u001b[39mreturn\u001b[39;00m X, y\n",
      "File \u001b[0;32m~/anaconda3/envs/quantum_kernel/lib/python3.9/site-packages/sklearn/utils/validation.py:262\u001b[0m, in \u001b[0;36mcheck_consistent_length\u001b[0;34m(*arrays)\u001b[0m\n\u001b[1;32m    <a href='file:///home/lslattery/anaconda3/envs/quantum_kernel/lib/python3.9/site-packages/sklearn/utils/validation.py?line=259'>260</a>\u001b[0m uniques \u001b[39m=\u001b[39m np\u001b[39m.\u001b[39munique(lengths)\n\u001b[1;32m    <a href='file:///home/lslattery/anaconda3/envs/quantum_kernel/lib/python3.9/site-packages/sklearn/utils/validation.py?line=260'>261</a>\u001b[0m \u001b[39mif\u001b[39;00m \u001b[39mlen\u001b[39m(uniques) \u001b[39m>\u001b[39m \u001b[39m1\u001b[39m:\n\u001b[0;32m--> <a href='file:///home/lslattery/anaconda3/envs/quantum_kernel/lib/python3.9/site-packages/sklearn/utils/validation.py?line=261'>262</a>\u001b[0m     \u001b[39mraise\u001b[39;00m \u001b[39mValueError\u001b[39;00m(\u001b[39m\"\u001b[39m\u001b[39mFound input variables with inconsistent numbers of\u001b[39m\u001b[39m\"\u001b[39m\n\u001b[1;32m    <a href='file:///home/lslattery/anaconda3/envs/quantum_kernel/lib/python3.9/site-packages/sklearn/utils/validation.py?line=262'>263</a>\u001b[0m                      \u001b[39m\"\u001b[39m\u001b[39m samples: \u001b[39m\u001b[39m%r\u001b[39;00m\u001b[39m\"\u001b[39m \u001b[39m%\u001b[39m [\u001b[39mint\u001b[39m(l) \u001b[39mfor\u001b[39;00m l \u001b[39min\u001b[39;00m lengths])\n",
      "\u001b[0;31mValueError\u001b[0m: Found input variables with inconsistent numbers of samples: [2, 800]"
     ]
    }
   ],
   "source": [
    "#qsvc = SVC(kernel='precomputed')\n",
    "#qsvc.fit(kernel_matrix, y_train)\n",
    "#score = qsvc.score(kernel_matrix, y_test)\n",
    "#print(f\"Score: {score}\")"
   ]
  },
  {
   "cell_type": "code",
   "execution_count": null,
   "metadata": {},
   "outputs": [],
   "source": [
    "#kernel_matrix2=test_kernel2.evaluate(x_vec=x_train,y_vec=x_train)"
   ]
  },
  {
   "cell_type": "code",
   "execution_count": null,
   "metadata": {},
   "outputs": [],
   "source": [
    "#qsvc = SVC(kernel='precomputed')\n",
    "#qsvc.fit(kernel_matrix2, y_train)\n",
    "#score = qsvc.score(kernel_matrix2, y_test)\n",
    "#print(f\"Score: {score}\")"
   ]
  },
  {
   "cell_type": "code",
   "execution_count": null,
   "metadata": {},
   "outputs": [
    {
     "ename": "NameError",
     "evalue": "name 'np' is not defined",
     "output_type": "error",
     "traceback": [
      "\u001b[0;31m---------------------------------------------------------------------------\u001b[0m",
      "\u001b[0;31mNameError\u001b[0m                                 Traceback (most recent call last)",
      "\u001b[1;32m/mnt/c/Users/lslat/Code/quantum_kernel/notebooks/tests/projected_kernel_test.ipynb Cell 9'\u001b[0m in \u001b[0;36m<cell line: 1>\u001b[0;34m()\u001b[0m\n\u001b[0;32m----> <a href='vscode-notebook-cell://wsl%2Bubuntu/mnt/c/Users/lslat/Code/quantum_kernel/notebooks/tests/projected_kernel_test.ipynb#ch0000035vscode-remote?line=0'>1</a>\u001b[0m mus, nus \u001b[39m=\u001b[39m np\u001b[39m.\u001b[39mtriu_indices(x_vec\u001b[39m.\u001b[39mshape[\u001b[39m0\u001b[39m], k\u001b[39m=\u001b[39m\u001b[39m1\u001b[39m)\n",
      "\u001b[0;31mNameError\u001b[0m: name 'np' is not defined"
     ]
    }
   ],
   "source": [
    "mus, nus = np.triu_indices(x_vec.shape[0], k=1)  # remove diagonal"
   ]
  },
  {
   "cell_type": "code",
   "execution_count": null,
   "metadata": {},
   "outputs": [],
   "source": [
    "x_vec=x_train\n",
    "y_vec=x_test\n",
    "a=np.concatenate((x_vec, y_vec))"
   ]
  },
  {
   "cell_type": "code",
   "execution_count": null,
   "metadata": {},
   "outputs": [
    {
     "data": {
      "text/plain": [
       "(800, 6)"
      ]
     },
     "execution_count": 12,
     "metadata": {},
     "output_type": "execute_result"
    }
   ],
   "source": [
    "x_vec.shape"
   ]
  },
  {
   "cell_type": "code",
   "execution_count": null,
   "metadata": {},
   "outputs": [],
   "source": []
  }
 ],
 "metadata": {
  "interpreter": {
   "hash": "55052c4936076760cf710cd2b620e3a0b8009f80cb8b04b58f47f6aa579d5b33"
  },
  "kernelspec": {
   "display_name": "Python 3.9.0 64-bit ('quantum_kernel')",
   "language": "python",
   "name": "python3"
  },
  "language_info": {
   "codemirror_mode": {
    "name": "ipython",
    "version": 3
   },
   "file_extension": ".py",
   "mimetype": "text/x-python",
   "name": "python",
   "nbconvert_exporter": "python",
   "pygments_lexer": "ipython3",
   "version": "3.9.12"
  },
  "orig_nbformat": 4
 },
 "nbformat": 4,
 "nbformat_minor": 2
}
