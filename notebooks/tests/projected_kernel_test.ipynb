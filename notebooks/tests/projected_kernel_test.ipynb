{
 "cells": [
  {
   "cell_type": "code",
   "execution_count": 23,
   "metadata": {},
   "outputs": [],
   "source": [
    "import sys\n",
    "import numpy as np\n",
    "import tracemalloc\n",
    "import matplotlib.pyplot as plt\n",
    "sys.path.append('C:/Users/lslat/Code/')\n",
    "sys.path.append('/mnt/c/Users/lslat/Code/')\n",
    "sys.path.append('/mnt/c/Users/lslat/QiskitProjects/VariationalWavefunction/')\n",
    "from quantum_kernel.code.feature_maps import IQP\n",
    "from quantum_kernel.code.feature_maps import Heisenberg\n",
    "from quantum_kernel.code.utils import get_quantum_kernel,get_projected_quantum_kernel\n",
    "from quantum_kernel.code.quantum_kernels import projected_kernels\n",
    "from quantum_kernel.code.utils import get_dataset\n",
    "from qiskit.circuit import Parameter,ParameterVector\n",
    "from qiskit.circuit.library.data_preparation.pauli_feature_map import PauliFeatureMap\n",
    "from qiskit import QuantumCircuit\n",
    "from qiskit import Aer\n",
    "import qiskit.quantum_info as qi\n",
    "from sklearn.svm import SVC"
   ]
  },
  {
   "cell_type": "code",
   "execution_count": 70,
   "metadata": {},
   "outputs": [],
   "source": [
    "num_qubits=6\n",
    "#test=IQP.Sparse_IQP(num_qubits,2,\"full\",5,int_time_scale=1)\n",
    "test=Heisenberg.Heisenberg1DFeatureMap(num_qubits,10,2,'Basis_random',0)\n",
    "x_train, x_test, y_train, y_test = get_dataset('plasticc', num_qubits, 800, 200)"
   ]
  },
  {
   "cell_type": "markdown",
   "metadata": {},
   "source": [
    "Test to make sure that changing the batch size does not change the kernel matrix."
   ]
  },
  {
   "cell_type": "code",
   "execution_count": 71,
   "metadata": {},
   "outputs": [],
   "source": [
    "small_batch_test_kernel=get_projected_quantum_kernel(test,simulation_method='statevector',batch_size=25,gamma=0.5)\n",
    "large_batch_test_kernel=get_projected_quantum_kernel(test,simulation_method='statevector',batch_size=10000,gamma=0.5)"
   ]
  },
  {
   "cell_type": "code",
   "execution_count": 72,
   "metadata": {},
   "outputs": [],
   "source": [
    "sb_kernel_matrix=small_batch_test_kernel.evaluate(x_vec=x_train[0:800],y_vec=x_train[0:800])\n",
    "lb_kernel_matrix,_=large_batch_test_kernel.evaluate(x_vec=x_train[0:800],y_vec=x_train[0:800])\n",
    "\n",
    "assert(np.all(sb_kernel_matrix==lb_kernel_matrix)),'Changing batch size changes kernel matrix'"
   ]
  },
  {
   "cell_type": "markdown",
   "metadata": {},
   "source": [
    "Test to make sure that we can change the measured qubits."
   ]
  },
  {
   "cell_type": "code",
   "execution_count": 21,
   "metadata": {},
   "outputs": [],
   "source": [
    "mq=[[i] for i in range(num_qubits)]\n",
    "large_batch_test_kernel.set_measured_qubits(mq)\n",
    "kernel_matrix2=large_batch_test_kernel.evaluate(x_vec=x_train[0:100],y_vec=x_train[0:100])"
   ]
  },
  {
   "cell_type": "code",
   "execution_count": null,
   "metadata": {},
   "outputs": [
    {
     "name": "stdout",
     "output_type": "stream",
     "text": [
      "top stats\n",
      "[<Statistic traceback=<Traceback <Frame filename='/home/lslattery/anaconda3/envs/quantum_kernel/lib/python3.9/copy.py' lineno=279>> size=100522448 count=1152801>, <Statistic traceback=<Traceback <Frame filename='/home/lslattery/anaconda3/envs/quantum_kernel/lib/python3.9/site-packages/qiskit/circuit/quantumcircuit.py' lineno=2116>> size=74201600 count=1510300>, <Statistic traceback=<Traceback <Frame filename='/home/lslattery/anaconda3/envs/quantum_kernel/lib/python3.9/site-packages/qiskit/circuit/parameterexpression.py' lineno=49>> size=29968704 count=138744>]\n"
     ]
    }
   ],
   "source": [
    "mq=[[i,i+1] for i in range(num_qubits-1)]\n",
    "large_batch_test_kernel.set_measured_qubits(mq)\n",
    "kernel_matrix3=large_batch_test_kernel.evaluate(x_vec=x_train[0:100],y_vec=x_train[0:100])"
   ]
  },
  {
   "cell_type": "markdown",
   "metadata": {},
   "source": [
    "Check that the kernel matrix is positive semidefinite,symmetric."
   ]
  },
  {
   "cell_type": "code",
   "execution_count": null,
   "metadata": {},
   "outputs": [],
   "source": [
    "assert(np.all(np.real(np.linalg.eigvals(sb_kernel_matrix)) > -1e-13)),'Not PSD'\n",
    "assert(np.all(np.real(np.linalg.eigvals(lb_kernel_matrix)) > -1e-13)),'Not PSD'\n",
    "assert(np.all(np.real(np.linalg.eigvals(kernel_matrix2)) > -1e-1)),'Not PSD'\n",
    "assert(np.all(np.real(np.linalg.eigvals(kernel_matrix3)) > -1e-13)),'Not PSD'"
   ]
  },
  {
   "cell_type": "code",
   "execution_count": null,
   "metadata": {},
   "outputs": [],
   "source": [
    "assert(np.allclose(sb_kernel_matrix-sb_kernel_matrix.T,0)),'Not symmetric'\n",
    "assert(np.allclose(lb_kernel_matrix-lb_kernel_matrix.T,0)),'Not symmetric'\n",
    "assert(np.allclose(kernel_matrix2-kernel_matrix2.T,0)),'Not symmetric'\n",
    "assert(np.allclose(kernel_matrix3-kernel_matrix3.T,0)),'Not symmetric'"
   ]
  },
  {
   "cell_type": "code",
   "execution_count": null,
   "metadata": {},
   "outputs": [],
   "source": [
    "#assert(np.isclose(np.trace(sb_kernel_matrix),sb_kernel_matrix.shape[0])),'Trace(K) != N'\n",
    "#assert(np.isclose(np.trace(lb_kernel_matrix),lb_kernel_matrix.shape[0])),'Trace(K) != N'\n",
    "#assert(np.isclose(np.trace(kernel_matrix2),kernel_matrix2.shape[0])),'Trace(K) != N'\n",
    "#assert(np.isclose(np.trace(kernel_matrix3),kernel_matrix3.shape[0])),'Trace(K) != N'"
   ]
  }
 ],
 "metadata": {
  "interpreter": {
   "hash": "55052c4936076760cf710cd2b620e3a0b8009f80cb8b04b58f47f6aa579d5b33"
  },
  "kernelspec": {
   "display_name": "Python 3.9.0",
   "language": "python",
   "name": "python3"
  },
  "language_info": {
   "codemirror_mode": {
    "name": "ipython",
    "version": 3
   },
   "file_extension": ".py",
   "mimetype": "text/x-python",
   "name": "python",
   "nbconvert_exporter": "python",
   "pygments_lexer": "ipython3",
   "version": "3.9.0"
  },
  "orig_nbformat": 4
 },
 "nbformat": 4,
 "nbformat_minor": 2
}
