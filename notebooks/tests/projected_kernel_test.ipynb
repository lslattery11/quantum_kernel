{
 "cells": [
  {
   "cell_type": "code",
   "execution_count": 1,
   "metadata": {},
   "outputs": [],
   "source": [
    "import sys\n",
    "sys.path.append('C:/Users/lslat/Code/')\n",
    "sys.path.append('/mnt/c/Users/lslat/Code/')\n",
    "sys.path.append('/mnt/c/Users/lslat/QiskitProjects/VariationalWavefunction/')\n",
    "from quantum_kernel.code.feature_maps import IQP\n",
    "from quantum_kernel.code.feature_maps import Heisenberg\n",
    "from quantum_kernel.code.utils import get_quantum_kernel,get_projected_quantum_kernel\n",
    "from quantum_kernel.code.quantum_kernels import projected_kernels\n",
    "from quantum_kernel.code.utils import get_dataset\n",
    "from qiskit.circuit import Parameter,ParameterVector"
   ]
  },
  {
   "cell_type": "code",
   "execution_count": 2,
   "metadata": {},
   "outputs": [],
   "source": [
    "test=IQP.Sparse_IQP(10,1,\"full\",1,int_time_scale=0.2)"
   ]
  },
  {
   "cell_type": "code",
   "execution_count": 3,
   "metadata": {},
   "outputs": [],
   "source": [
    "test_kernel=get_projected_quantum_kernel(test,simulation_method='matrix_product_state')"
   ]
  },
  {
   "cell_type": "code",
   "execution_count": 4,
   "metadata": {},
   "outputs": [
    {
     "data": {
      "text/plain": [
       "ParameterView([ParameterVectorElement(x[0]), ParameterVectorElement(x[1]), ParameterVectorElement(x[2]), ParameterVectorElement(x[3]), ParameterVectorElement(x[4]), ParameterVectorElement(x[5]), ParameterVectorElement(x[6]), ParameterVectorElement(x[7]), ParameterVectorElement(x[8]), ParameterVectorElement(x[9])])"
      ]
     },
     "execution_count": 4,
     "metadata": {},
     "output_type": "execute_result"
    }
   ],
   "source": [
    "test_kernel._feature_map.parameters"
   ]
  },
  {
   "cell_type": "code",
   "execution_count": 5,
   "metadata": {},
   "outputs": [],
   "source": [
    "x_train, x_test, y_train, y_test = get_dataset('plasticc', 10, 800, 200)\n"
   ]
  },
  {
   "cell_type": "code",
   "execution_count": 6,
   "metadata": {},
   "outputs": [
    {
     "name": "stdout",
     "output_type": "stream",
     "text": [
      "ParameterView([ParameterVectorElement(x[0]), ParameterVectorElement(x[1]), ParameterVectorElement(x[2]), ParameterVectorElement(x[3]), ParameterVectorElement(x[4]), ParameterVectorElement(x[5]), ParameterVectorElement(x[6]), ParameterVectorElement(x[7]), ParameterVectorElement(x[8]), ParameterVectorElement(x[9])])\n",
      "ParameterView([])\n",
      "ParameterView([])\n",
      "ParameterView([])\n"
     ]
    }
   ],
   "source": [
    "qc_x,qc_y=test_kernel.construct_circuit(x_train[0],x_train[0])\n",
    "test_circuit=qc_x[0]"
   ]
  },
  {
   "cell_type": "code",
   "execution_count": 38,
   "metadata": {},
   "outputs": [],
   "source": [
    "a=test_kernel._feature_map\n"
   ]
  },
  {
   "cell_type": "code",
   "execution_count": 39,
   "metadata": {},
   "outputs": [
    {
     "data": {
      "text/plain": [
       "ParameterView([ParameterVectorElement(x[0]), ParameterVectorElement(x[1]), ParameterVectorElement(x[2]), ParameterVectorElement(x[3]), ParameterVectorElement(x[4]), ParameterVectorElement(x[5]), ParameterVectorElement(x[6]), ParameterVectorElement(x[7]), ParameterVectorElement(x[8]), ParameterVectorElement(x[9])])"
      ]
     },
     "execution_count": 39,
     "metadata": {},
     "output_type": "execute_result"
    }
   ],
   "source": [
    "a.parameters"
   ]
  },
  {
   "cell_type": "code",
   "execution_count": 35,
   "metadata": {},
   "outputs": [
    {
     "ename": "CircuitError",
     "evalue": "'Cannot bind parameters (par_x[0], par_x[1], par_x[2], par_x[3], par_x[4], par_x[5], par_x[6], par_x[7], par_x[8], par_x[9]) not present in the circuit.'",
     "output_type": "error",
     "traceback": [
      "\u001b[0;31m---------------------------------------------------------------------------\u001b[0m",
      "\u001b[0;31mCircuitError\u001b[0m                              Traceback (most recent call last)",
      "\u001b[1;32m/mnt/c/Users/lslat/QiskitProjects/VariationalWavefunction/quantum_kernel/notebooks/projected_kernel_test.ipynb Cell 8'\u001b[0m in \u001b[0;36m<cell line: 2>\u001b[0;34m()\u001b[0m\n\u001b[1;32m      <a href='vscode-notebook-cell://wsl%2Bubuntu/mnt/c/Users/lslat/QiskitProjects/VariationalWavefunction/quantum_kernel/notebooks/projected_kernel_test.ipynb#ch0000011vscode-remote?line=0'>1</a>\u001b[0m feature_map_params_x \u001b[39m=\u001b[39m ParameterVector(\u001b[39m\"\u001b[39m\u001b[39mpar_x\u001b[39m\u001b[39m\"\u001b[39m, test\u001b[39m.\u001b[39mnum_parameters)\n\u001b[0;32m----> <a href='vscode-notebook-cell://wsl%2Bubuntu/mnt/c/Users/lslat/QiskitProjects/VariationalWavefunction/quantum_kernel/notebooks/projected_kernel_test.ipynb#ch0000011vscode-remote?line=1'>2</a>\u001b[0m test_circuit\u001b[39m.\u001b[39;49massign_parameters({feature_map_params_x: x_train[\u001b[39m0\u001b[39;49m]})\n",
      "File \u001b[0;32m/home/lslattery/anaconda3/envs/quantum_kernel/lib/python3.9/site-packages/qiskit/circuit/quantumcircuit.py:2472\u001b[0m, in \u001b[0;36mQuantumCircuit.assign_parameters\u001b[0;34m(self, parameters, inplace)\u001b[0m\n\u001b[1;32m   <a href='file:///home/lslattery/anaconda3/envs/quantum_kernel/lib/python3.9/site-packages/qiskit/circuit/quantumcircuit.py?line=2465'>2466</a>\u001b[0m params_not_in_circuit \u001b[39m=\u001b[39m [\n\u001b[1;32m   <a href='file:///home/lslattery/anaconda3/envs/quantum_kernel/lib/python3.9/site-packages/qiskit/circuit/quantumcircuit.py?line=2466'>2467</a>\u001b[0m     param_key\n\u001b[1;32m   <a href='file:///home/lslattery/anaconda3/envs/quantum_kernel/lib/python3.9/site-packages/qiskit/circuit/quantumcircuit.py?line=2467'>2468</a>\u001b[0m     \u001b[39mfor\u001b[39;00m param_key \u001b[39min\u001b[39;00m unrolled_param_dict\n\u001b[1;32m   <a href='file:///home/lslattery/anaconda3/envs/quantum_kernel/lib/python3.9/site-packages/qiskit/circuit/quantumcircuit.py?line=2468'>2469</a>\u001b[0m     \u001b[39mif\u001b[39;00m param_key \u001b[39mnot\u001b[39;00m \u001b[39min\u001b[39;00m unsorted_parameters\n\u001b[1;32m   <a href='file:///home/lslattery/anaconda3/envs/quantum_kernel/lib/python3.9/site-packages/qiskit/circuit/quantumcircuit.py?line=2469'>2470</a>\u001b[0m ]\n\u001b[1;32m   <a href='file:///home/lslattery/anaconda3/envs/quantum_kernel/lib/python3.9/site-packages/qiskit/circuit/quantumcircuit.py?line=2470'>2471</a>\u001b[0m \u001b[39mif\u001b[39;00m \u001b[39mlen\u001b[39m(params_not_in_circuit) \u001b[39m>\u001b[39m \u001b[39m0\u001b[39m:\n\u001b[0;32m-> <a href='file:///home/lslattery/anaconda3/envs/quantum_kernel/lib/python3.9/site-packages/qiskit/circuit/quantumcircuit.py?line=2471'>2472</a>\u001b[0m     \u001b[39mraise\u001b[39;00m CircuitError(\n\u001b[1;32m   <a href='file:///home/lslattery/anaconda3/envs/quantum_kernel/lib/python3.9/site-packages/qiskit/circuit/quantumcircuit.py?line=2472'>2473</a>\u001b[0m         \u001b[39m\"\u001b[39m\u001b[39mCannot bind parameters (\u001b[39m\u001b[39m{}\u001b[39;00m\u001b[39m) not present in the circuit.\u001b[39m\u001b[39m\"\u001b[39m\u001b[39m.\u001b[39mformat(\n\u001b[1;32m   <a href='file:///home/lslattery/anaconda3/envs/quantum_kernel/lib/python3.9/site-packages/qiskit/circuit/quantumcircuit.py?line=2473'>2474</a>\u001b[0m             \u001b[39m\"\u001b[39m\u001b[39m, \u001b[39m\u001b[39m\"\u001b[39m\u001b[39m.\u001b[39mjoin(\u001b[39mmap\u001b[39m(\u001b[39mstr\u001b[39m, params_not_in_circuit))\n\u001b[1;32m   <a href='file:///home/lslattery/anaconda3/envs/quantum_kernel/lib/python3.9/site-packages/qiskit/circuit/quantumcircuit.py?line=2474'>2475</a>\u001b[0m         )\n\u001b[1;32m   <a href='file:///home/lslattery/anaconda3/envs/quantum_kernel/lib/python3.9/site-packages/qiskit/circuit/quantumcircuit.py?line=2475'>2476</a>\u001b[0m     )\n\u001b[1;32m   <a href='file:///home/lslattery/anaconda3/envs/quantum_kernel/lib/python3.9/site-packages/qiskit/circuit/quantumcircuit.py?line=2477'>2478</a>\u001b[0m \u001b[39m# replace the parameters with a new Parameter (\"substitute\") or numeric value (\"bind\")\u001b[39;00m\n\u001b[1;32m   <a href='file:///home/lslattery/anaconda3/envs/quantum_kernel/lib/python3.9/site-packages/qiskit/circuit/quantumcircuit.py?line=2478'>2479</a>\u001b[0m \u001b[39mfor\u001b[39;00m parameter, value \u001b[39min\u001b[39;00m unrolled_param_dict\u001b[39m.\u001b[39mitems():\n",
      "\u001b[0;31mCircuitError\u001b[0m: 'Cannot bind parameters (par_x[0], par_x[1], par_x[2], par_x[3], par_x[4], par_x[5], par_x[6], par_x[7], par_x[8], par_x[9]) not present in the circuit.'"
     ]
    }
   ],
   "source": [
    "feature_map_params_x = ParameterVector(\"par_x\", test.num_parameters)\n",
    "test_circuit.assign_parameters({feature_map_params_x: x_train[0]})"
   ]
  },
  {
   "cell_type": "code",
   "execution_count": 37,
   "metadata": {},
   "outputs": [
    {
     "data": {
      "text/plain": [
       "set()"
      ]
     },
     "execution_count": 37,
     "metadata": {},
     "output_type": "execute_result"
    }
   ],
   "source": [
    "test_circuit._unsorted_parameters()"
   ]
  },
  {
   "cell_type": "code",
   "execution_count": 21,
   "metadata": {},
   "outputs": [
    {
     "data": {
      "text/plain": [
       "{ParameterVectorElement(par_x[0]): 1.9594150198638007,\n",
       " ParameterVectorElement(par_x[1]): -1.696834749979715,\n",
       " ParameterVectorElement(par_x[2]): 0.543231810300563,\n",
       " ParameterVectorElement(par_x[3]): 1.4921900582289402,\n",
       " ParameterVectorElement(par_x[4]): 1.3828200393378418,\n",
       " ParameterVectorElement(par_x[5]): -1.2150992767732984,\n",
       " ParameterVectorElement(par_x[6]): 0.7768108225598058,\n",
       " ParameterVectorElement(par_x[7]): -0.15582995390097662,\n",
       " ParameterVectorElement(par_x[8]): -1.0009887970402764,\n",
       " ParameterVectorElement(par_x[9]): -0.5026500424513888}"
      ]
     },
     "execution_count": 21,
     "metadata": {},
     "output_type": "execute_result"
    }
   ],
   "source": [
    "test_circuit._unroll_param_dict({feature_map_params_x:x_train[0]})"
   ]
  },
  {
   "cell_type": "code",
   "execution_count": 14,
   "metadata": {},
   "outputs": [
    {
     "name": "stdout",
     "output_type": "stream",
     "text": [
      "1\n",
      "<class 'qiskit.circuit.quantumcircuit.QuantumCircuit'>\n",
      "<class 'qiskit.circuit.quantumcircuit.QuantumCircuit'>\n",
      "here\n",
      "here2\n"
     ]
    },
    {
     "name": "stderr",
     "output_type": "stream",
     "text": [
      "FAILURE: Can not get job id, Resubmit the qobj to get job id. Terra job error: 'bad input to assemble() function; must be either circuits or schedules' \n",
      "FAILURE: Can not get job id, Resubmit the qobj to get job id. Terra job error: 'bad input to assemble() function; must be either circuits or schedules' \n",
      "FAILURE: Can not get job id, Resubmit the qobj to get job id. Terra job error: 'bad input to assemble() function; must be either circuits or schedules' \n",
      "FAILURE: Can not get job id, Resubmit the qobj to get job id. Terra job error: 'bad input to assemble() function; must be either circuits or schedules' \n",
      "FAILURE: Can not get job id, Resubmit the qobj to get job id. Terra job error: 'bad input to assemble() function; must be either circuits or schedules' \n",
      "FAILURE: Can not get job id, Resubmit the qobj to get job id. Terra job error: 'bad input to assemble() function; must be either circuits or schedules' \n",
      "FAILURE: Can not get job id, Resubmit the qobj to get job id. Terra job error: 'bad input to assemble() function; must be either circuits or schedules' \n",
      "FAILURE: Can not get job id, Resubmit the qobj to get job id. Terra job error: 'bad input to assemble() function; must be either circuits or schedules' \n",
      "FAILURE: Can not get job id, Resubmit the qobj to get job id. Terra job error: 'bad input to assemble() function; must be either circuits or schedules' \n",
      "FAILURE: Can not get job id, Resubmit the qobj to get job id. Terra job error: 'bad input to assemble() function; must be either circuits or schedules' \n",
      "FAILURE: Can not get job id, Resubmit the qobj to get job id. Terra job error: 'bad input to assemble() function; must be either circuits or schedules' \n",
      "FAILURE: Can not get job id, Resubmit the qobj to get job id. Terra job error: 'bad input to assemble() function; must be either circuits or schedules' \n",
      "FAILURE: Can not get job id, Resubmit the qobj to get job id. Terra job error: 'bad input to assemble() function; must be either circuits or schedules' \n",
      "FAILURE: Can not get job id, Resubmit the qobj to get job id. Terra job error: 'bad input to assemble() function; must be either circuits or schedules' \n",
      "FAILURE: Can not get job id, Resubmit the qobj to get job id. Terra job error: 'bad input to assemble() function; must be either circuits or schedules' \n",
      "FAILURE: Can not get job id, Resubmit the qobj to get job id. Terra job error: 'bad input to assemble() function; must be either circuits or schedules' \n",
      "FAILURE: Can not get job id, Resubmit the qobj to get job id. Terra job error: 'bad input to assemble() function; must be either circuits or schedules' \n",
      "FAILURE: Can not get job id, Resubmit the qobj to get job id. Terra job error: 'bad input to assemble() function; must be either circuits or schedules' \n",
      "FAILURE: Can not get job id, Resubmit the qobj to get job id. Terra job error: 'bad input to assemble() function; must be either circuits or schedules' \n",
      "FAILURE: Can not get job id, Resubmit the qobj to get job id. Terra job error: 'bad input to assemble() function; must be either circuits or schedules' \n",
      "FAILURE: Can not get job id, Resubmit the qobj to get job id. Terra job error: 'bad input to assemble() function; must be either circuits or schedules' \n",
      "FAILURE: Can not get job id, Resubmit the qobj to get job id. Terra job error: 'bad input to assemble() function; must be either circuits or schedules' \n",
      "FAILURE: Can not get job id, Resubmit the qobj to get job id. Terra job error: 'bad input to assemble() function; must be either circuits or schedules' \n",
      "FAILURE: Can not get job id, Resubmit the qobj to get job id. Terra job error: 'bad input to assemble() function; must be either circuits or schedules' \n",
      "FAILURE: Can not get job id, Resubmit the qobj to get job id. Terra job error: 'bad input to assemble() function; must be either circuits or schedules' \n",
      "FAILURE: Can not get job id, Resubmit the qobj to get job id. Terra job error: 'bad input to assemble() function; must be either circuits or schedules' \n",
      "FAILURE: Can not get job id, Resubmit the qobj to get job id. Terra job error: 'bad input to assemble() function; must be either circuits or schedules' \n",
      "FAILURE: Can not get job id, Resubmit the qobj to get job id. Terra job error: 'bad input to assemble() function; must be either circuits or schedules' \n",
      "FAILURE: Can not get job id, Resubmit the qobj to get job id. Terra job error: 'bad input to assemble() function; must be either circuits or schedules' \n",
      "FAILURE: Can not get job id, Resubmit the qobj to get job id. Terra job error: 'bad input to assemble() function; must be either circuits or schedules' \n",
      "FAILURE: Can not get job id, Resubmit the qobj to get job id. Terra job error: 'bad input to assemble() function; must be either circuits or schedules' \n",
      "FAILURE: Can not get job id, Resubmit the qobj to get job id. Terra job error: 'bad input to assemble() function; must be either circuits or schedules' \n",
      "FAILURE: Can not get job id, Resubmit the qobj to get job id. Terra job error: 'bad input to assemble() function; must be either circuits or schedules' \n",
      "FAILURE: Can not get job id, Resubmit the qobj to get job id. Terra job error: 'bad input to assemble() function; must be either circuits or schedules' \n",
      "FAILURE: Can not get job id, Resubmit the qobj to get job id. Terra job error: 'bad input to assemble() function; must be either circuits or schedules' \n",
      "FAILURE: Can not get job id, Resubmit the qobj to get job id. Terra job error: 'bad input to assemble() function; must be either circuits or schedules' \n",
      "FAILURE: Can not get job id, Resubmit the qobj to get job id. Terra job error: 'bad input to assemble() function; must be either circuits or schedules' \n",
      "FAILURE: Can not get job id, Resubmit the qobj to get job id. Terra job error: 'bad input to assemble() function; must be either circuits or schedules' \n",
      "FAILURE: Can not get job id, Resubmit the qobj to get job id. Terra job error: 'bad input to assemble() function; must be either circuits or schedules' \n",
      "FAILURE: Can not get job id, Resubmit the qobj to get job id. Terra job error: 'bad input to assemble() function; must be either circuits or schedules' \n",
      "FAILURE: Can not get job id, Resubmit the qobj to get job id. Terra job error: 'bad input to assemble() function; must be either circuits or schedules' \n",
      "FAILURE: Can not get job id, Resubmit the qobj to get job id. Terra job error: 'bad input to assemble() function; must be either circuits or schedules' \n",
      "FAILURE: Can not get job id, Resubmit the qobj to get job id. Terra job error: 'bad input to assemble() function; must be either circuits or schedules' \n",
      "FAILURE: Can not get job id, Resubmit the qobj to get job id. Terra job error: 'bad input to assemble() function; must be either circuits or schedules' \n",
      "FAILURE: Can not get job id, Resubmit the qobj to get job id. Terra job error: 'bad input to assemble() function; must be either circuits or schedules' \n",
      "FAILURE: Can not get job id, Resubmit the qobj to get job id. Terra job error: 'bad input to assemble() function; must be either circuits or schedules' \n",
      "FAILURE: Can not get job id, Resubmit the qobj to get job id. Terra job error: 'bad input to assemble() function; must be either circuits or schedules' \n",
      "FAILURE: Can not get job id, Resubmit the qobj to get job id. Terra job error: 'bad input to assemble() function; must be either circuits or schedules' \n",
      "FAILURE: Can not get job id, Resubmit the qobj to get job id. Terra job error: 'bad input to assemble() function; must be either circuits or schedules' \n",
      "FAILURE: Can not get job id, Resubmit the qobj to get job id. Terra job error: 'bad input to assemble() function; must be either circuits or schedules' \n"
     ]
    },
    {
     "name": "stdout",
     "output_type": "stream",
     "text": [
      "here3\n",
      "[<qiskit.circuit.quantumcircuit.QuantumCircuit object at 0x7f1b810fb190>]\n",
      "[<qiskit.circuit.quantumcircuit.QuantumCircuit object at 0x7f1b810fb190>]\n"
     ]
    },
    {
     "ename": "QiskitError",
     "evalue": "'Max retry limit reached. Failed to submit the qobj correctly'",
     "output_type": "error",
     "traceback": [
      "\u001b[0;31m---------------------------------------------------------------------------\u001b[0m",
      "\u001b[0;31mQiskitError\u001b[0m                               Traceback (most recent call last)",
      "\u001b[1;32m/mnt/c/Users/lslat/QiskitProjects/VariationalWavefunction/quantum_kernel/notebooks/projected_kernel_test.ipynb Cell 8'\u001b[0m in \u001b[0;36m<cell line: 1>\u001b[0;34m()\u001b[0m\n\u001b[0;32m----> <a href='vscode-notebook-cell://wsl%2Bubuntu/mnt/c/Users/lslat/QiskitProjects/VariationalWavefunction/quantum_kernel/notebooks/projected_kernel_test.ipynb#ch0000004vscode-remote?line=0'>1</a>\u001b[0m test_kernel\u001b[39m.\u001b[39;49mevaluate(x_vec\u001b[39m=\u001b[39;49mx_train,y_vec\u001b[39m=\u001b[39;49mx_train)\n",
      "File \u001b[0;32m/mnt/c/Users/lslat/QiskitProjects/VariationalWavefunction/quantum_kernel/code/quantum_kernels/projected_kernels.py:289\u001b[0m, in \u001b[0;36mRDM1ProjectedKernel.evaluate\u001b[0;34m(self, x_vec, y_vec)\u001b[0m\n\u001b[1;32m    <a href='file:///mnt/c/Users/lslat/QiskitProjects/VariationalWavefunction/quantum_kernel/code/quantum_kernels/projected_kernels.py?line=284'>285</a>\u001b[0m     circuits_y \u001b[39m=\u001b[39m \u001b[39mself\u001b[39m\u001b[39m.\u001b[39m_quantum_instance\u001b[39m.\u001b[39mtranspile(\n\u001b[1;32m    <a href='file:///mnt/c/Users/lslat/QiskitProjects/VariationalWavefunction/quantum_kernel/code/quantum_kernels/projected_kernels.py?line=285'>286</a>\u001b[0m         circuits_y, pass_manager\u001b[39m=\u001b[39m\u001b[39mself\u001b[39m\u001b[39m.\u001b[39m_quantum_instance\u001b[39m.\u001b[39mbound_pass_manager\n\u001b[1;32m    <a href='file:///mnt/c/Users/lslat/QiskitProjects/VariationalWavefunction/quantum_kernel/code/quantum_kernels/projected_kernels.py?line=286'>287</a>\u001b[0m     )\n\u001b[1;32m    <a href='file:///mnt/c/Users/lslat/QiskitProjects/VariationalWavefunction/quantum_kernel/code/quantum_kernels/projected_kernels.py?line=287'>288</a>\u001b[0m \u001b[39mprint\u001b[39m(circuits_y[\u001b[39m0\u001b[39m])\n\u001b[0;32m--> <a href='file:///mnt/c/Users/lslat/QiskitProjects/VariationalWavefunction/quantum_kernel/code/quantum_kernels/projected_kernels.py?line=288'>289</a>\u001b[0m results_x \u001b[39m=\u001b[39m \u001b[39mself\u001b[39;49m\u001b[39m.\u001b[39;49m_quantum_instance\u001b[39m.\u001b[39;49mexecute(circuits_x, had_transpiled\u001b[39m=\u001b[39;49m\u001b[39mTrue\u001b[39;49;00m)\n\u001b[1;32m    <a href='file:///mnt/c/Users/lslat/QiskitProjects/VariationalWavefunction/quantum_kernel/code/quantum_kernels/projected_kernels.py?line=289'>290</a>\u001b[0m results_y \u001b[39m=\u001b[39m \u001b[39mself\u001b[39m\u001b[39m.\u001b[39m_quantum_instance\u001b[39m.\u001b[39mexecute(circuits_y, had_transpiled\u001b[39m=\u001b[39m\u001b[39mTrue\u001b[39;00m)\n\u001b[1;32m    <a href='file:///mnt/c/Users/lslat/QiskitProjects/VariationalWavefunction/quantum_kernel/code/quantum_kernels/projected_kernels.py?line=290'>291</a>\u001b[0m \u001b[39m#setting to None, can change if I it turns out I want to use a specific basis and deviate\u001b[39;00m\n\u001b[1;32m    <a href='file:///mnt/c/Users/lslat/QiskitProjects/VariationalWavefunction/quantum_kernel/code/quantum_kernels/projected_kernels.py?line=291'>292</a>\u001b[0m \u001b[39m#from the paper.\u001b[39;00m\n",
      "File \u001b[0;32m/home/lslattery/anaconda3/envs/quantum_kernel/lib/python3.9/site-packages/qiskit/utils/quantum_instance.py:801\u001b[0m, in \u001b[0;36mQuantumInstance.execute\u001b[0;34m(self, circuits, had_transpiled)\u001b[0m\n\u001b[1;32m    <a href='file:///home/lslattery/anaconda3/envs/quantum_kernel/lib/python3.9/site-packages/qiskit/utils/quantum_instance.py?line=796'>797</a>\u001b[0m                 result\u001b[39m.\u001b[39mresults[n] \u001b[39m=\u001b[39m tmp_result\u001b[39m.\u001b[39mresults[i]\n\u001b[1;32m    <a href='file:///home/lslattery/anaconda3/envs/quantum_kernel/lib/python3.9/site-packages/qiskit/utils/quantum_instance.py?line=798'>799</a>\u001b[0m \u001b[39melse\u001b[39;00m:\n\u001b[1;32m    <a href='file:///home/lslattery/anaconda3/envs/quantum_kernel/lib/python3.9/site-packages/qiskit/utils/quantum_instance.py?line=799'>800</a>\u001b[0m     result \u001b[39m=\u001b[39m (\n\u001b[0;32m--> <a href='file:///home/lslattery/anaconda3/envs/quantum_kernel/lib/python3.9/site-packages/qiskit/utils/quantum_instance.py?line=800'>801</a>\u001b[0m         run_circuits(\n\u001b[1;32m    <a href='file:///home/lslattery/anaconda3/envs/quantum_kernel/lib/python3.9/site-packages/qiskit/utils/quantum_instance.py?line=801'>802</a>\u001b[0m             circuits,\n\u001b[1;32m    <a href='file:///home/lslattery/anaconda3/envs/quantum_kernel/lib/python3.9/site-packages/qiskit/utils/quantum_instance.py?line=802'>803</a>\u001b[0m             \u001b[39mself\u001b[39;49m\u001b[39m.\u001b[39;49m_backend,\n\u001b[1;32m    <a href='file:///home/lslattery/anaconda3/envs/quantum_kernel/lib/python3.9/site-packages/qiskit/utils/quantum_instance.py?line=803'>804</a>\u001b[0m             qjob_config\u001b[39m=\u001b[39;49m\u001b[39mself\u001b[39;49m\u001b[39m.\u001b[39;49mqjob_config,\n\u001b[1;32m    <a href='file:///home/lslattery/anaconda3/envs/quantum_kernel/lib/python3.9/site-packages/qiskit/utils/quantum_instance.py?line=804'>805</a>\u001b[0m             backend_options\u001b[39m=\u001b[39;49m\u001b[39mself\u001b[39;49m\u001b[39m.\u001b[39;49mbackend_options,\n\u001b[1;32m    <a href='file:///home/lslattery/anaconda3/envs/quantum_kernel/lib/python3.9/site-packages/qiskit/utils/quantum_instance.py?line=805'>806</a>\u001b[0m             noise_config\u001b[39m=\u001b[39;49m\u001b[39mself\u001b[39;49m\u001b[39m.\u001b[39;49m_noise_config,\n\u001b[1;32m    <a href='file:///home/lslattery/anaconda3/envs/quantum_kernel/lib/python3.9/site-packages/qiskit/utils/quantum_instance.py?line=806'>807</a>\u001b[0m             run_config\u001b[39m=\u001b[39;49m\u001b[39mself\u001b[39;49m\u001b[39m.\u001b[39;49m_run_config\u001b[39m.\u001b[39;49mto_dict(),\n\u001b[1;32m    <a href='file:///home/lslattery/anaconda3/envs/quantum_kernel/lib/python3.9/site-packages/qiskit/utils/quantum_instance.py?line=807'>808</a>\u001b[0m             job_callback\u001b[39m=\u001b[39;49m\u001b[39mself\u001b[39;49m\u001b[39m.\u001b[39;49m_job_callback,\n\u001b[1;32m    <a href='file:///home/lslattery/anaconda3/envs/quantum_kernel/lib/python3.9/site-packages/qiskit/utils/quantum_instance.py?line=808'>809</a>\u001b[0m             max_job_retries\u001b[39m=\u001b[39;49m\u001b[39mself\u001b[39;49m\u001b[39m.\u001b[39;49m_max_job_retries,\n\u001b[1;32m    <a href='file:///home/lslattery/anaconda3/envs/quantum_kernel/lib/python3.9/site-packages/qiskit/utils/quantum_instance.py?line=809'>810</a>\u001b[0m         )\n\u001b[1;32m    <a href='file:///home/lslattery/anaconda3/envs/quantum_kernel/lib/python3.9/site-packages/qiskit/utils/quantum_instance.py?line=810'>811</a>\u001b[0m         \u001b[39mif\u001b[39;00m circuit_job\n\u001b[1;32m    <a href='file:///home/lslattery/anaconda3/envs/quantum_kernel/lib/python3.9/site-packages/qiskit/utils/quantum_instance.py?line=811'>812</a>\u001b[0m         \u001b[39melse\u001b[39;00m run_qobj(\n\u001b[1;32m    <a href='file:///home/lslattery/anaconda3/envs/quantum_kernel/lib/python3.9/site-packages/qiskit/utils/quantum_instance.py?line=812'>813</a>\u001b[0m             qobj,\n\u001b[1;32m    <a href='file:///home/lslattery/anaconda3/envs/quantum_kernel/lib/python3.9/site-packages/qiskit/utils/quantum_instance.py?line=813'>814</a>\u001b[0m             \u001b[39mself\u001b[39m\u001b[39m.\u001b[39m_backend,\n\u001b[1;32m    <a href='file:///home/lslattery/anaconda3/envs/quantum_kernel/lib/python3.9/site-packages/qiskit/utils/quantum_instance.py?line=814'>815</a>\u001b[0m             \u001b[39mself\u001b[39m\u001b[39m.\u001b[39m_qjob_config,\n\u001b[1;32m    <a href='file:///home/lslattery/anaconda3/envs/quantum_kernel/lib/python3.9/site-packages/qiskit/utils/quantum_instance.py?line=815'>816</a>\u001b[0m             \u001b[39mself\u001b[39m\u001b[39m.\u001b[39m_backend_options,\n\u001b[1;32m    <a href='file:///home/lslattery/anaconda3/envs/quantum_kernel/lib/python3.9/site-packages/qiskit/utils/quantum_instance.py?line=816'>817</a>\u001b[0m             \u001b[39mself\u001b[39m\u001b[39m.\u001b[39m_noise_config,\n\u001b[1;32m    <a href='file:///home/lslattery/anaconda3/envs/quantum_kernel/lib/python3.9/site-packages/qiskit/utils/quantum_instance.py?line=817'>818</a>\u001b[0m             \u001b[39mself\u001b[39m\u001b[39m.\u001b[39m_skip_qobj_validation,\n\u001b[1;32m    <a href='file:///home/lslattery/anaconda3/envs/quantum_kernel/lib/python3.9/site-packages/qiskit/utils/quantum_instance.py?line=818'>819</a>\u001b[0m             \u001b[39mself\u001b[39m\u001b[39m.\u001b[39m_job_callback,\n\u001b[1;32m    <a href='file:///home/lslattery/anaconda3/envs/quantum_kernel/lib/python3.9/site-packages/qiskit/utils/quantum_instance.py?line=819'>820</a>\u001b[0m             \u001b[39mself\u001b[39m\u001b[39m.\u001b[39m_max_job_retries,\n\u001b[1;32m    <a href='file:///home/lslattery/anaconda3/envs/quantum_kernel/lib/python3.9/site-packages/qiskit/utils/quantum_instance.py?line=820'>821</a>\u001b[0m         )\n\u001b[1;32m    <a href='file:///home/lslattery/anaconda3/envs/quantum_kernel/lib/python3.9/site-packages/qiskit/utils/quantum_instance.py?line=821'>822</a>\u001b[0m     )\n\u001b[1;32m    <a href='file:///home/lslattery/anaconda3/envs/quantum_kernel/lib/python3.9/site-packages/qiskit/utils/quantum_instance.py?line=822'>823</a>\u001b[0m     \u001b[39mself\u001b[39m\u001b[39m.\u001b[39m_time_taken \u001b[39m+\u001b[39m\u001b[39m=\u001b[39m result\u001b[39m.\u001b[39mtime_taken\n\u001b[1;32m    <a href='file:///home/lslattery/anaconda3/envs/quantum_kernel/lib/python3.9/site-packages/qiskit/utils/quantum_instance.py?line=824'>825</a>\u001b[0m \u001b[39mif\u001b[39;00m \u001b[39mself\u001b[39m\u001b[39m.\u001b[39m_circuit_summary:\n",
      "File \u001b[0;32m/home/lslattery/anaconda3/envs/quantum_kernel/lib/python3.9/site-packages/qiskit/utils/run_circuits.py:525\u001b[0m, in \u001b[0;36mrun_circuits\u001b[0;34m(circuits, backend, qjob_config, backend_options, noise_config, run_config, job_callback, max_job_retries)\u001b[0m\n\u001b[1;32m    <a href='file:///home/lslattery/anaconda3/envs/quantum_kernel/lib/python3.9/site-packages/qiskit/utils/run_circuits.py?line=522'>523</a>\u001b[0m         count \u001b[39m+\u001b[39m\u001b[39m=\u001b[39m max_circuits_per_job\n\u001b[1;32m    <a href='file:///home/lslattery/anaconda3/envs/quantum_kernel/lib/python3.9/site-packages/qiskit/utils/run_circuits.py?line=523'>524</a>\u001b[0m \u001b[39melse\u001b[39;00m:\n\u001b[0;32m--> <a href='file:///home/lslattery/anaconda3/envs/quantum_kernel/lib/python3.9/site-packages/qiskit/utils/run_circuits.py?line=524'>525</a>\u001b[0m     job, job_id \u001b[39m=\u001b[39m _safe_submit_circuits(\n\u001b[1;32m    <a href='file:///home/lslattery/anaconda3/envs/quantum_kernel/lib/python3.9/site-packages/qiskit/utils/run_circuits.py?line=525'>526</a>\u001b[0m         circuits,\n\u001b[1;32m    <a href='file:///home/lslattery/anaconda3/envs/quantum_kernel/lib/python3.9/site-packages/qiskit/utils/run_circuits.py?line=526'>527</a>\u001b[0m         backend,\n\u001b[1;32m    <a href='file:///home/lslattery/anaconda3/envs/quantum_kernel/lib/python3.9/site-packages/qiskit/utils/run_circuits.py?line=527'>528</a>\u001b[0m         qjob_config\u001b[39m=\u001b[39;49mqjob_config,\n\u001b[1;32m    <a href='file:///home/lslattery/anaconda3/envs/quantum_kernel/lib/python3.9/site-packages/qiskit/utils/run_circuits.py?line=528'>529</a>\u001b[0m         backend_options\u001b[39m=\u001b[39;49mbackend_options,\n\u001b[1;32m    <a href='file:///home/lslattery/anaconda3/envs/quantum_kernel/lib/python3.9/site-packages/qiskit/utils/run_circuits.py?line=529'>530</a>\u001b[0m         noise_config\u001b[39m=\u001b[39;49mnoise_config,\n\u001b[1;32m    <a href='file:///home/lslattery/anaconda3/envs/quantum_kernel/lib/python3.9/site-packages/qiskit/utils/run_circuits.py?line=530'>531</a>\u001b[0m         run_config\u001b[39m=\u001b[39;49mrun_config,\n\u001b[1;32m    <a href='file:///home/lslattery/anaconda3/envs/quantum_kernel/lib/python3.9/site-packages/qiskit/utils/run_circuits.py?line=531'>532</a>\u001b[0m         max_job_retries\u001b[39m=\u001b[39;49mmax_job_retries,\n\u001b[1;32m    <a href='file:///home/lslattery/anaconda3/envs/quantum_kernel/lib/python3.9/site-packages/qiskit/utils/run_circuits.py?line=532'>533</a>\u001b[0m     )\n\u001b[1;32m    <a href='file:///home/lslattery/anaconda3/envs/quantum_kernel/lib/python3.9/site-packages/qiskit/utils/run_circuits.py?line=533'>534</a>\u001b[0m     jobs \u001b[39m=\u001b[39m [job]\n\u001b[1;32m    <a href='file:///home/lslattery/anaconda3/envs/quantum_kernel/lib/python3.9/site-packages/qiskit/utils/run_circuits.py?line=534'>535</a>\u001b[0m     job_ids \u001b[39m=\u001b[39m [job_id]\n",
      "File \u001b[0;32m/home/lslattery/anaconda3/envs/quantum_kernel/lib/python3.9/site-packages/qiskit/utils/run_circuits.py:712\u001b[0m, in \u001b[0;36m_safe_submit_circuits\u001b[0;34m(circuits, backend, qjob_config, backend_options, noise_config, run_config, max_job_retries)\u001b[0m\n\u001b[1;32m    <a href='file:///home/lslattery/anaconda3/envs/quantum_kernel/lib/python3.9/site-packages/qiskit/utils/run_circuits.py?line=707'>708</a>\u001b[0m         logger\u001b[39m.\u001b[39mwarning(\n\u001b[1;32m    <a href='file:///home/lslattery/anaconda3/envs/quantum_kernel/lib/python3.9/site-packages/qiskit/utils/run_circuits.py?line=708'>709</a>\u001b[0m             \u001b[39m\"\u001b[39m\u001b[39mFAILURE: Can not get job id, Resubmit the qobj to get job id. Error: \u001b[39m\u001b[39m%s\u001b[39;00m\u001b[39m \u001b[39m\u001b[39m\"\u001b[39m, ex\n\u001b[1;32m    <a href='file:///home/lslattery/anaconda3/envs/quantum_kernel/lib/python3.9/site-packages/qiskit/utils/run_circuits.py?line=709'>710</a>\u001b[0m         )\n\u001b[1;32m    <a href='file:///home/lslattery/anaconda3/envs/quantum_kernel/lib/python3.9/site-packages/qiskit/utils/run_circuits.py?line=710'>711</a>\u001b[0m \u001b[39melse\u001b[39;00m:\n\u001b[0;32m--> <a href='file:///home/lslattery/anaconda3/envs/quantum_kernel/lib/python3.9/site-packages/qiskit/utils/run_circuits.py?line=711'>712</a>\u001b[0m     \u001b[39mraise\u001b[39;00m QiskitError(\u001b[39m\"\u001b[39m\u001b[39mMax retry limit reached. Failed to submit the qobj correctly\u001b[39m\u001b[39m\"\u001b[39m)\n\u001b[1;32m    <a href='file:///home/lslattery/anaconda3/envs/quantum_kernel/lib/python3.9/site-packages/qiskit/utils/run_circuits.py?line=713'>714</a>\u001b[0m \u001b[39mreturn\u001b[39;00m job, job_id\n",
      "\u001b[0;31mQiskitError\u001b[0m: 'Max retry limit reached. Failed to submit the qobj correctly'"
     ]
    }
   ],
   "source": [
    "test_kernel.evaluate(x_vec=x_train,y_vec=x_train)"
   ]
  },
  {
   "cell_type": "code",
   "execution_count": null,
   "metadata": {},
   "outputs": [
    {
     "ename": "",
     "evalue": "",
     "output_type": "error",
     "traceback": [
      "\u001b[1;31mnotebook controller is DISPOSED. \n",
      "View Jupyter <a href='command:jupyter.viewOutput'>log</a> for further details."
     ]
    },
    {
     "ename": "",
     "evalue": "",
     "output_type": "error",
     "traceback": [
      "\u001b[1;31mnotebook controller is DISPOSED. \n",
      "View Jupyter <a href='command:jupyter.viewOutput'>log</a> for further details."
     ]
    },
    {
     "ename": "",
     "evalue": "",
     "output_type": "error",
     "traceback": [
      "\u001b[1;31mnotebook controller is DISPOSED. \n",
      "View Jupyter <a href='command:jupyter.viewOutput'>log</a> for further details."
     ]
    },
    {
     "ename": "",
     "evalue": "",
     "output_type": "error",
     "traceback": [
      "\u001b[1;31mnotebook controller is DISPOSED. \n",
      "View Jupyter <a href='command:jupyter.viewOutput'>log</a> for further details."
     ]
    },
    {
     "ename": "",
     "evalue": "",
     "output_type": "error",
     "traceback": [
      "\u001b[1;31mnotebook controller is DISPOSED. \n",
      "View Jupyter <a href='command:jupyter.viewOutput'>log</a> for further details."
     ]
    },
    {
     "ename": "",
     "evalue": "",
     "output_type": "error",
     "traceback": [
      "\u001b[1;31mnotebook controller is DISPOSED. \n",
      "View Jupyter <a href='command:jupyter.viewOutput'>log</a> for further details."
     ]
    },
    {
     "ename": "",
     "evalue": "",
     "output_type": "error",
     "traceback": [
      "\u001b[1;31mnotebook controller is DISPOSED. \n",
      "View Jupyter <a href='command:jupyter.viewOutput'>log</a> for further details."
     ]
    }
   ],
   "source": []
  }
 ],
 "metadata": {
  "interpreter": {
   "hash": "55052c4936076760cf710cd2b620e3a0b8009f80cb8b04b58f47f6aa579d5b33"
  },
  "kernelspec": {
   "display_name": "Python 3.9.0 64-bit ('quantum_kernel')",
   "language": "python",
   "name": "python3"
  },
  "language_info": {
   "codemirror_mode": {
    "name": "ipython",
    "version": 3
   },
   "file_extension": ".py",
   "mimetype": "text/x-python",
   "name": "python",
   "nbconvert_exporter": "python",
   "pygments_lexer": "ipython3",
   "version": "3.9.0"
  },
  "orig_nbformat": 4
 },
 "nbformat": 4,
 "nbformat_minor": 2
}
