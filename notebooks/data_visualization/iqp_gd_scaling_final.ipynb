{
 "cells": [
  {
   "cell_type": "code",
   "execution_count": 2,
   "metadata": {},
   "outputs": [],
   "source": [
    "from tqdm import tqdm\n",
    "import pickle\n",
    "import pandas as pd\n",
    "from pathlib import Path\n",
    "import numpy as np\n",
    "import scipy\n",
    "import copy\n",
    "import sys\n",
    "import os\n",
    "from typing import Optional, Union, Sequence, Mapping, List, Set\n",
    "import seaborn as sns\n",
    "import matplotlib.pyplot as plt\n",
    "from matplotlib import rc\n",
    "from matplotlib import cm\n",
    "from matplotlib.lines import Line2D\n",
    "import warnings\n",
    "from mpl_toolkits.axes_grid1 import make_axes_locatable\n",
    "from sklearn.metrics.pairwise import cosine_similarity,cosine_distances\n",
    "\n",
    "sys.path.append('/mnt/c/Users/lslat/Code/')\n",
    "sys.path.append('/mnt/c/Users/lslat/QiskitProjects/VariationalWavefunction/')\n",
    "\n",
    "from quantum_kernel.code.utils import get_dataset\n",
    "from quantum_kernel.code.visualization_utils import aggregate_shapes,filter_df\n",
    "from quantum_kernel.code.kernel_measures.kernel_geometry import purity_average, purity_of_average,geometric_difference,geometric_distance\n",
    "from quantum_kernel.code.kernel_measures.eigenvalue_scaling import get_eigenvalue_scaling,compute_dataframe_kernel_eigenvalues\n",
    "\n",
    "font = {'family': 'DejaVu Sans',\n",
    "        'weight': 'bold',\n",
    "        'size': 18}\n",
    "\n",
    "rc('font', **font)\n",
    "\n",
    "tqdm.pandas()\n",
    "warnings.filterwarnings(\"ignore\")\n"
   ]
  },
  {
   "cell_type": "code",
   "execution_count": 47,
   "metadata": {},
   "outputs": [],
   "source": [
    "# Get kernel results for the different ml models and dataset.d\n",
    "dfs = {}\n",
    "beta=1.0\n",
    "gamma=0.5\n",
    "folders = [\n",
    "    (\"/mnt/c/Users/lslat/Data/QK_project/results/Sparse_IQP/final_gennorm/beta{}gamma{}/\".format(beta,gamma),'Sparse_IQP'),\n",
    "]\n",
    "\n",
    "cols_to_drop=['args', 'K_train_time', 'rdms', \n",
    "'samples', 'mu','sigma', 'outpath', 'projected']\n",
    "\n",
    "def get_dfs_from_folder(folder,prefix,cols_to_drop):\n",
    "    dfs={}\n",
    "    dfs[prefix] = aggregate_shapes(folder,prefix,cols_to_drop=cols_to_drop)\n",
    "    return dfs\n",
    "\n",
    "dfs=get_dfs_from_folder(folders[0][0],folders[0][1],cols_to_drop)\n",
    "\n"
   ]
  },
  {
   "cell_type": "code",
   "execution_count": 48,
   "metadata": {},
   "outputs": [],
   "source": [
    "save_folder='/mnt/c/Users/lslat/Data/QK_project/results/figs/'"
   ]
  },
  {
   "cell_type": "code",
   "execution_count": 49,
   "metadata": {},
   "outputs": [],
   "source": [
    "iqp_df=dfs['Sparse_IQP']\n",
    "target_iqp_df=iqp_df[(iqp_df['density']!=0) & (iqp_df['beta']==beta)]"
   ]
  },
  {
   "cell_type": "code",
   "execution_count": 50,
   "metadata": {},
   "outputs": [
    {
     "data": {
      "text/plain": [
       "Text(0.5, 1.0, 'Max Kernel Eigenvalues for target $\\\\beta=1.0, \\\\gamma=0.5$ distribution')"
      ]
     },
     "execution_count": 50,
     "metadata": {},
     "output_type": "execute_result"
    },
    {
     "data": {
      "image/png": "[encoded data removed]",
      "text/plain": [
       "<Figure size 432x288 with 1 Axes>"
      ]
     },
     "metadata": {
      "needs_background": "light"
     },
     "output_type": "display_data"
    }
   ],
   "source": [
    "xp=target_iqp_df.dataset_dim.values\n",
    "yp=target_iqp_df.apply(lambda x: max(x.kernel_eigenvalues),axis=1).values\n",
    "plt.scatter(xp,yp)\n",
    "plt.ylabel('Max Kernel Eigenvalue')\n",
    "plt.xlabel('Dataset Dimension')\n",
    "plt.title(rf'Max Kernel Eigenvalues for target $\\beta={beta}, \\gamma={gamma}$ distribution')"
   ]
  },
  {
   "cell_type": "code",
   "execution_count": 51,
   "metadata": {},
   "outputs": [],
   "source": [
    "filepath=save_folder+'geometric_difference_dict_beta{beta}gamma_{gamma}.p'\n",
    "\n",
    "dataset_dims=[5,6,7,8,9,10,11,12,13,14,15,16,17,18,19]\n",
    "seeds = set(target_iqp_df.seed.values)\n",
    "\n",
    "folder=\"/mnt/c/Users/lslat/Data/QK_project/results/Sparse_IQP/final_gennorm/\"\n",
    "\n",
    "if os.path.exists(filepath):\n",
    "    with open(filepath, 'rb') as pickle_file:\n",
    "        geo_diffs=pickle.load(pickle_file)\n",
    "else:\n",
    "    geo_diffs={}\n",
    "    for dim in dataset_dims:\n",
    "        print(f'on dimension: {dim}')\n",
    "        prefix=f\"Sparse_IQP_dim_{dim}*_density_0\"\n",
    "        dfs=get_dfs_from_folder(folder,prefix,cols_to_drop)\n",
    "        generic_ciqp_df=dfs[prefix]\n",
    "\n",
    "        geo_diffs[str(dim)]=[]\n",
    "        for seed in seeds:\n",
    "            c_df=generic_ciqp_df[(generic_ciqp_df['seed']==seed)]\n",
    "            q_df=target_iqp_df[(target_iqp_df['dataset_dim']==dim) & (target_iqp_df['seed']==seed)]\n",
    "            Kq=q_df.qkern_matrix_train.values[0]\n",
    "            Kcs=c_df.qkern_matrix_train.values\n",
    "            sfs=c_df.scaling_factor.values\n",
    "            geo_diffs[str(dim)]=geo_diffs[str(dim)]+[(sf,geometric_difference(Kq,Kc)) for sf,Kc in zip(sfs,Kcs)]\n",
    "        geo_diffs[str(dim)]=np.array(geo_diffs[str(dim)])\n",
    "\n",
    "    with open(filepath, 'wb') as f:\n",
    "        try:\n",
    "            pickle.dump(geo_diffs,f)\n",
    "        except:\n",
    "            print('Could not save geo_diffs dictionary')"
   ]
  },
  {
   "cell_type": "code",
   "execution_count": null,
   "metadata": {},
   "outputs": [],
   "source": [
    "colormap=cm.viridis\n",
    "dataset_dims=[6,7,8,9,10,11,12,13,14,15,16,17,18]\n",
    "fig, axs = plt.subplots(1,figsize=(10,10))\n",
    "ax=axs\n",
    "for dim in dataset_dims:\n",
    "    color_index=int(256*dim/max(dataset_dims))-1\n",
    "    color=colormap.colors[color_index]\n",
    "    ax.scatter(geo_diffs[str(dim)][:,0],geo_diffs[str(dim)][:,1],color=color,label=dim)\n",
    "\n",
    "ax.set_yscale('log')\n",
    "ax.set_ylabel('GD')\n",
    "ax.set_xlabel('Classical Scaling Factor')  \n",
    "legend=plt.legend(ncol=2,bbox_to_anchor=(1,1))\n",
    "legend.set_title('Dataset Dimension')\n",
    "ax.set_title('Geometric Difference gd(Quantum IQP || Classical IQP)')\n",
    "fig.tight_layout()\n",
    "#fig.savefig(f'{save_folder}IQP_gd_grid_search.png')"
   ]
  },
  {
   "cell_type": "code",
   "execution_count": null,
   "metadata": {},
   "outputs": [],
   "source": []
  }
 ],
 "metadata": {
  "kernelspec": {
   "display_name": "Python 3.9.12",
   "language": "python",
   "name": "python3"
  },
  "language_info": {
   "codemirror_mode": {
    "name": "ipython",
    "version": 3
   },
   "file_extension": ".py",
   "mimetype": "text/x-python",
   "name": "python",
   "nbconvert_exporter": "python",
   "pygments_lexer": "ipython3",
   "version": "3.9.12"
  },
  "orig_nbformat": 4,
  "vscode": {
   "interpreter": {
    "hash": "55052c4936076760cf710cd2b620e3a0b8009f80cb8b04b58f47f6aa579d5b33"
   }
  }
 },
 "nbformat": 4,
 "nbformat_minor": 2
}
