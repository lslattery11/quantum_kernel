{
 "cells": [
  {
   "cell_type": "code",
   "execution_count": 3,
   "metadata": {},
   "outputs": [],
   "source": [
    "from tqdm import tqdm\n",
    "import pickle\n",
    "import pandas as pd\n",
    "from pathlib import Path\n",
    "import numpy as np\n",
    "import scipy\n",
    "import copy\n",
    "import sys\n",
    "import os\n",
    "from typing import Optional, Union, Sequence, Mapping, List, Set\n",
    "import seaborn as sns\n",
    "import matplotlib.pyplot as plt\n",
    "from matplotlib import rc\n",
    "from matplotlib import cm\n",
    "from matplotlib.lines import Line2D\n",
    "\n",
    "import warnings\n",
    "from mpl_toolkits.axes_grid1 import make_axes_locatable\n",
    "from sklearn.metrics.pairwise import cosine_similarity,cosine_distances\n",
    "\n",
    "sys.path.append('/mnt/c/Users/lslat/Code/')\n",
    "sys.path.append('/mnt/c/Users/lslat/QiskitProjects/VariationalWavefunction/')\n",
    "\n",
    "from quantum_kernel.code.utils import get_dataset\n",
    "from quantum_kernel.code.visualization_utils import aggregate_shapes,filter_df\n",
    "from quantum_kernel.code.kernel_measures.kernel_geometry import purity_average, purity_of_average\n",
    "from quantum_kernel.code.kernel_measures.eigenvalue_scaling import get_eigenvalue_scaling,compute_dataframe_kernel_eigenvalues\n",
    "\n",
    "font = {'family': 'DejaVu Sans',\n",
    "        'weight': 'bold',\n",
    "        'size': 30}\n",
    "\n",
    "rc('font', **font)\n",
    "\n",
    "tqdm.pandas()\n",
    "warnings.filterwarnings(\"ignore\")\n"
   ]
  },
  {
   "cell_type": "code",
   "execution_count": 5,
   "metadata": {},
   "outputs": [
    {
     "ename": "IndexError",
     "evalue": "list index out of range",
     "output_type": "error",
     "traceback": [
      "\u001b[0;31m---------------------------------------------------------------------------\u001b[0m",
      "\u001b[0;31mIndexError\u001b[0m                                Traceback (most recent call last)",
      "\u001b[1;32m/mnt/c/Users/lslat/Code/quantum_kernel/notebooks/data_visualization/iqp_alpha_test_decay.ipynb Cell 2\u001b[0m in \u001b[0;36m<cell line: 11>\u001b[0;34m()\u001b[0m\n\u001b[1;32m     <a href='vscode-notebook-cell://wsl%2Bubuntu/mnt/c/Users/lslat/Code/quantum_kernel/notebooks/data_visualization/iqp_alpha_test_decay.ipynb#ch0000001vscode-remote?line=13'>14</a>\u001b[0m     dfs[prefix] \u001b[39m=\u001b[39m pd\u001b[39m.\u001b[39mconcat([dfs[prefix], temp])\n\u001b[1;32m     <a href='vscode-notebook-cell://wsl%2Bubuntu/mnt/c/Users/lslat/Code/quantum_kernel/notebooks/data_visualization/iqp_alpha_test_decay.ipynb#ch0000001vscode-remote?line=14'>15</a>\u001b[0m \u001b[39melse\u001b[39;00m:\n\u001b[0;32m---> <a href='vscode-notebook-cell://wsl%2Bubuntu/mnt/c/Users/lslat/Code/quantum_kernel/notebooks/data_visualization/iqp_alpha_test_decay.ipynb#ch0000001vscode-remote?line=15'>16</a>\u001b[0m     dfs[prefix] \u001b[39m=\u001b[39m aggregate_shapes(folder,prefix,cols_to_drop\u001b[39m=\u001b[39;49mcols_to_drop)\n",
      "File \u001b[0;32m/mnt/c/Users/lslat/Code/quantum_kernel/code/visualization_utils.py:88\u001b[0m, in \u001b[0;36maggregate_shapes\u001b[0;34m(folder, prefix, return_dataframe, cols_to_drop)\u001b[0m\n\u001b[1;32m     85\u001b[0m         df_all\u001b[39m=\u001b[39mupdate_df(df_all,all_res,cols_to_drop)\n\u001b[1;32m     86\u001b[0m         all_res\u001b[39m=\u001b[39m[]\n\u001b[0;32m---> 88\u001b[0m df_all\u001b[39m=\u001b[39mupdate_df(df_all,all_res,cols_to_drop)\n\u001b[1;32m     90\u001b[0m \u001b[39mif\u001b[39;00m return_dataframe\u001b[39m==\u001b[39m\u001b[39mTrue\u001b[39;00m:\n\u001b[1;32m     91\u001b[0m     \u001b[39mreturn\u001b[39;00m df_all\n",
      "File \u001b[0;32m/mnt/c/Users/lslat/Code/quantum_kernel/code/visualization_utils.py:103\u001b[0m, in \u001b[0;36mupdate_df\u001b[0;34m(df, res_list, cols_to_drop, k)\u001b[0m\n\u001b[1;32m    101\u001b[0m \u001b[39mdef\u001b[39;00m \u001b[39mupdate_df\u001b[39m(df,res_list,cols_to_drop,k\u001b[39m=\u001b[39m\u001b[39m1\u001b[39m):\n\u001b[1;32m    102\u001b[0m     \u001b[39mif\u001b[39;00m df\u001b[39m.\u001b[39mcolumns\u001b[39m.\u001b[39msize\u001b[39m==\u001b[39m\u001b[39m0\u001b[39m:\n\u001b[0;32m--> 103\u001b[0m         df\u001b[39m=\u001b[39mpd\u001b[39m.\u001b[39mDataFrame(res_list, columns\u001b[39m=\u001b[39mres_list[\u001b[39m0\u001b[39;49m]\u001b[39m.\u001b[39mkeys())\n\u001b[1;32m    104\u001b[0m         df[\u001b[39m'\u001b[39m\u001b[39mkernel_eigenvalues\u001b[39m\u001b[39m'\u001b[39m]\u001b[39m=\u001b[39mdf\u001b[39m.\u001b[39mapply(\u001b[39mlambda\u001b[39;00m row: np\u001b[39m.\u001b[39mabs(scipy\u001b[39m.\u001b[39mlinalg\u001b[39m.\u001b[39meigh(\u001b[39m-\u001b[39m\u001b[39m1\u001b[39m\u001b[39m*\u001b[39mrow\u001b[39m.\u001b[39mqkern_matrix_train,eigvals_only\u001b[39m=\u001b[39m\u001b[39mTrue\u001b[39;00m,subset_by_index\u001b[39m=\u001b[39m(\u001b[39m0\u001b[39m,k\u001b[39m-\u001b[39m\u001b[39m1\u001b[39m)))\u001b[39m/\u001b[39mrow\u001b[39m.\u001b[39mqkern_matrix_train\u001b[39m.\u001b[39mshape[\u001b[39m0\u001b[39m], axis\u001b[39m=\u001b[39m\u001b[39m1\u001b[39m)\n\u001b[1;32m    106\u001b[0m     \u001b[39melse\u001b[39;00m:\n",
      "\u001b[0;31mIndexError\u001b[0m: list index out of range"
     ]
    }
   ],
   "source": [
    "# Get kernel results for the different ml models and dataset.d\n",
    "dfs = {}\n",
    "\n",
    "folders = [\n",
    "    (\"/mnt/c/Users/lslat/Data/QK_project/results/HZZ_multi/final_gennorm/alpha_test/beta1.0/\",'HZZ_multi'),\n",
    "]\n",
    "\n",
    "cols_to_drop=['qkern_matrix_train', 'args', 'K_train_time', 'rdms', \n",
    "'samples', 'mu','sigma', 'outpath','seed', 'projected']\n",
    "\n",
    "for folder,prefix in folders:\n",
    "    if prefix in dfs:\n",
    "        temp = aggregate_shapes(folder,prefix,cols_to_drop=cols_to_drop)\n",
    "        dfs[prefix] = pd.concat([dfs[prefix], temp])\n",
    "    else:\n",
    "        dfs[prefix] = aggregate_shapes(folder,prefix,cols_to_drop=cols_to_drop)"
   ]
  },
  {
   "cell_type": "code",
   "execution_count": null,
   "metadata": {},
   "outputs": [],
   "source": [
    "save_folder='/mnt/c/Users/lslat/Data/QK_project/results/figs/'"
   ]
  },
  {
   "cell_type": "code",
   "execution_count": null,
   "metadata": {},
   "outputs": [],
   "source": [
    "hzz_df=dfs['HZZ_multi']"
   ]
  },
  {
   "cell_type": "code",
   "execution_count": null,
   "metadata": {},
   "outputs": [],
   "source": []
  }
 ],
 "metadata": {
  "kernelspec": {
   "display_name": "Python 3.9.12",
   "language": "python",
   "name": "python3"
  },
  "language_info": {
   "codemirror_mode": {
    "name": "ipython",
    "version": 3
   },
   "file_extension": ".py",
   "mimetype": "text/x-python",
   "name": "python",
   "nbconvert_exporter": "python",
   "pygments_lexer": "ipython3",
   "version": "3.9.12"
  },
  "orig_nbformat": 4,
  "vscode": {
   "interpreter": {
    "hash": "55052c4936076760cf710cd2b620e3a0b8009f80cb8b04b58f47f6aa579d5b33"
   }
  }
 },
 "nbformat": 4,
 "nbformat_minor": 2
}
