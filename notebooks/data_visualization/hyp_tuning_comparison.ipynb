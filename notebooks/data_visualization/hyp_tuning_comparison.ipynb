{
 "cells": [
  {
   "cell_type": "code",
   "execution_count": 1,
   "metadata": {},
   "outputs": [],
   "source": [
    "import pickle\n",
    "import pandas as pd\n",
    "from pathlib import Path\n",
    "import numpy as np\n",
    "import copy\n",
    "import sys\n",
    "import seaborn as sns\n",
    "import matplotlib.pyplot as plt\n",
    "from matplotlib import rc\n",
    "rc('font',**{'family':'serif','serif':['Times']})\n",
    "\n",
    "from tqdm import tqdm\n",
    "tqdm.pandas()\n",
    "\n",
    "#sys.path.append('C:/Users/lslat/Code/')\n",
    "sys.path.append('/mnt/c/Users/lslat/Code/')\n",
    "sys.path.append('/mnt/c/Users/lslat/QiskitProjects/VariationalWavefunction/')\n",
    "from quantum_kernel.code.utils import compute_additional_fields,aggregate_folder"
   ]
  },
  {
   "cell_type": "code",
   "execution_count": 2,
   "metadata": {},
   "outputs": [],
   "source": [
    "def aggregate_pickles(all_pickles_paths, dataset_name,projected=False):\n",
    "    all_res = []\n",
    "    \n",
    "    for fname in all_pickles_paths:\n",
    "        try:\n",
    "            res = pickle.load(open(fname,'rb'))\n",
    "        except (AttributeError, EOFError, TypeError) as e:\n",
    "            print(e)\n",
    "            print(fname)\n",
    "            continue\n",
    "        res.update(vars(res['args']))\n",
    "        all_res.append(res)\n",
    "\n",
    "    df_all = pd.DataFrame(all_res, columns=all_res[0].keys())\n",
    "    df_all = compute_additional_fields(df_all, dataset_name=dataset_name,dumb_CV=False,projected=projected)\n",
    "    df_all.drop(columns=['qkern_matrix_train', 'qkern_matrix_test'], inplace=True)\n",
    "    return df_all"
   ]
  },
  {
   "cell_type": "code",
   "execution_count": 3,
   "metadata": {},
   "outputs": [
    {
     "name": "stdout",
     "output_type": "stream",
     "text": [
      "plasticc\n"
     ]
    },
    {
     "name": "stderr",
     "output_type": "stream",
     "text": [
      "100%|██████████| 8/8 [06:39<00:00, 49.97s/it]"
     ]
    },
    {
     "name": "stdout",
     "output_type": "stream",
     "text": [
      "For /mnt/c/Users/lslat/Data/QK_project/results/hproj_Sparse_IQPm/plasticc/, saving aggregated pickle in /mnt/c/Users/lslat/Data/QK_project/results/hproj_Sparse_IQPm/plasticc/aggregated.p\n"
     ]
    },
    {
     "name": "stderr",
     "output_type": "stream",
     "text": [
      "\n"
     ]
    }
   ],
   "source": [
    "dfs = {}\n",
    "dataset_name='fashion-mnist'\n",
    "\n",
    "folders = [\n",
    "    (\"/mnt/c/Users/lslat/Data/QK_project/results/hproj_HZZMulti/\"+dataset_name,'HZZMulti',True),\n",
    "]\n",
    "for folder, kernel_name, projected in folders:\n",
    "    if dataset_name in dfs:\n",
    "        temp = aggregate_folder(folder, dataset_name, kernel_name=kernel_name,projected=projected)[\n",
    "            dataset_name]\n",
    "        dfs[dataset_name] = pd.concat([dfs[dataset_name], temp])\n",
    "    else:\n",
    "        dfs[dataset_name] = aggregate_folder(\n",
    "            folder, dataset_name, kernel_name=kernel_name,projected=projected)[dataset_name]\n",
    "\n",
    "save_folder='/mnt/c/Users/lslat/Data/QK_project/results/figs/'"
   ]
  },
  {
   "cell_type": "code",
   "execution_count": 4,
   "metadata": {},
   "outputs": [],
   "source": [
    "label2dataset = {Path(x).stem : y for x,y in folders}\n",
    "label2dataset['IQP'] = 'plasticc'\n",
    "label2dataset['control_evo_time'] = 'plasticc'\n",
    "\n",
    "pretty_print_dict = {\n",
    "    'test_score' : 'Prediction accuracy',\n",
    "    'train_score' : 'Train accuracy',\n",
    "    'evo_time' : 'Scaling factor',\n",
    "    'scaling_factor' : 'Scaling factor',\n",
    "    'log_scaling_factor' : 'Log10 Scaling Factor'\n",
    "}\n",
    "\n",
    "palette = sns.color_palette(\"viridis\",23)\n",
    "legend_elements = []\n",
    "\n",
    "def plot_one_score(df, ax, metric_to_plot, x_axis_metric, legend=False,dims=None):\n",
    "    \"\"\"\n",
    "    Plot one\n",
    "    \"\"\"\n",
    "    #dims=list(sorted(set(df['Number of qubits'])))\n",
    "    dims=[dims]\n",
    "    densities=list(sorted(set(df['density'])))\n",
    "    for idx2, dim in enumerate(dims):\n",
    "        for idx3, density in enumerate(densities):\n",
    "            to_plot = df[\n",
    "                (df['Number of qubits'] == dim) & (df['density'] == density\n",
    "                )\n",
    "            ]\n",
    "            x = sorted(set(to_plot[x_axis_metric]))\n",
    "            x = [ii for ii in x if ii <= 1]\n",
    "            y = [to_plot[\n",
    "                to_plot[x_axis_metric] == evo_time\n",
    "            ][metric_to_plot].mean() for evo_time in x]\n",
    "            lp = ax.plot(\n",
    "                x,y,\n",
    "                label=str(density), \n",
    "                color=palette[density]\n",
    "            )\n",
    "            if legend:\n",
    "                legend_elements.append(lp[0])\n",
    "    #ax.set_xscale(\"log\")    \n",
    "    ax.set_xlabel(pretty_print_dict[x_axis_metric], fontsize=12)\n",
    "    ax.xaxis.set_tick_params(labelsize=12)\n",
    "    ax.yaxis.set_tick_params(labelsize=12)\n",
    "    # Shrink current axis's height by 20% on the top\n",
    "    box = ax.get_position()\n",
    "    ax.set_position([box.x0, box.y0+0.025 * box.height,\n",
    "                     box.width, box.height * 0.7])\n",
    "def plot_scores_Sparse_IQP(dfs, metric_to_plot,dims):\n",
    "    \"\"\"\n",
    "    Plot test score for Sparse_IQP\n",
    "    \"\"\"\n",
    "    labels = ['fashion-mnist', 'kmnist', 'plasticc']\n",
    "    # \\textwidth is 6.92654 in\n",
    "    f, ax = plt.subplots(1, len(labels), figsize=(1.5*6.92654, 2*6.92654/4), sharey=True)\n",
    "    plt.subplots_adjust(wspace=0.01)\n",
    "    for idx, label in enumerate(labels):\n",
    "        is_leftmost = idx==0\n",
    "        is_rightmost = idx==len(labels)-1\n",
    "        plot_one_score(dfs[label], ax[idx], metric_to_plot, 'log_scaling_factor', legend = idx==0,dims=dims)\n",
    "        #ax[idx].set_title(r\"\\texttt{\"+label2dataset[label]+r\"}\", fontsize=12)\n",
    "        if is_leftmost:\n",
    "            ax[idx].set_ylabel(pretty_print_dict[metric_to_plot], fontsize=12)\n",
    "            ax[idx].set_yticks([0.5, 0.6, 0.7, 0.8, 0.9])\n",
    "        else:\n",
    "            ax[idx].yaxis.set_ticks_position('none')\n",
    "        ax[idx].set_title(label)\n",
    "    for one_ax in ax:\n",
    "        lp_r = one_ax.hlines(y=0.5, xmin=one_ax.get_xlim()[0], xmax=one_ax.get_xlim()[1], \n",
    "                 color='k', linestyle='dashed', label='Random guess')\n",
    "\n",
    "    ax[1].legend(\n",
    "        handles=legend_elements[:]+[lp_r],\n",
    "        title='Number of two qubit connections per qubit per layer',\n",
    "        loc='upper center', \n",
    "        bbox_to_anchor=(0.5, 1.4), \n",
    "        ncol=11, \n",
    "        labelspacing=0.1,\n",
    "        columnspacing=1,\n",
    "    )\n",
    "    f.suptitle('hproj_Sparse IQP',fontsize=16)\n"
   ]
  },
  {
   "cell_type": "code",
   "execution_count": 5,
   "metadata": {},
   "outputs": [
    {
     "ename": "KeyError",
     "evalue": "'kmnist'",
     "output_type": "error",
     "traceback": [
      "\u001b[0;31m---------------------------------------------------------------------------\u001b[0m",
      "\u001b[0;31mKeyError\u001b[0m                                  Traceback (most recent call last)",
      "\u001b[1;32m/mnt/c/Users/lslat/QiskitProjects/VariationalWavefunction/quantum_kernel/notebooks/data_visualization/hyp_tuning_comparison.ipynb Cell 5'\u001b[0m in \u001b[0;36m<cell line: 1>\u001b[0;34m()\u001b[0m\n\u001b[0;32m----> <a href='vscode-notebook-cell://wsl%2Bubuntu/mnt/c/Users/lslat/QiskitProjects/VariationalWavefunction/quantum_kernel/notebooks/data_visualization/hyp_tuning_comparison.ipynb#ch0000004vscode-remote?line=0'>1</a>\u001b[0m plot_scores_Sparse_IQP(dfs,\u001b[39m'\u001b[39;49m\u001b[39mtest_score\u001b[39;49m\u001b[39m'\u001b[39;49m,dims\u001b[39m=\u001b[39;49m\u001b[39m18\u001b[39;49m)\n\u001b[1;32m      <a href='vscode-notebook-cell://wsl%2Bubuntu/mnt/c/Users/lslat/QiskitProjects/VariationalWavefunction/quantum_kernel/notebooks/data_visualization/hyp_tuning_comparison.ipynb#ch0000004vscode-remote?line=1'>2</a>\u001b[0m plt\u001b[39m.\u001b[39msavefig(\u001b[39m'\u001b[39m\u001b[39m/mnt/c/Users/lslat/Data/QK_project/figs/hproj_Sparse_IQP_test_accuracy.pdf\u001b[39m\u001b[39m'\u001b[39m)\n",
      "\u001b[1;32m/mnt/c/Users/lslat/QiskitProjects/VariationalWavefunction/quantum_kernel/notebooks/data_visualization/hyp_tuning_comparison.ipynb Cell 4'\u001b[0m in \u001b[0;36mplot_scores_Sparse_IQP\u001b[0;34m(dfs, metric_to_plot, dims)\u001b[0m\n\u001b[1;32m     <a href='vscode-notebook-cell://wsl%2Bubuntu/mnt/c/Users/lslat/QiskitProjects/VariationalWavefunction/quantum_kernel/notebooks/data_visualization/hyp_tuning_comparison.ipynb#ch0000003vscode-remote?line=58'>59</a>\u001b[0m is_leftmost \u001b[39m=\u001b[39m idx\u001b[39m==\u001b[39m\u001b[39m0\u001b[39m\n\u001b[1;32m     <a href='vscode-notebook-cell://wsl%2Bubuntu/mnt/c/Users/lslat/QiskitProjects/VariationalWavefunction/quantum_kernel/notebooks/data_visualization/hyp_tuning_comparison.ipynb#ch0000003vscode-remote?line=59'>60</a>\u001b[0m is_rightmost \u001b[39m=\u001b[39m idx\u001b[39m==\u001b[39m\u001b[39mlen\u001b[39m(labels)\u001b[39m-\u001b[39m\u001b[39m1\u001b[39m\n\u001b[0;32m---> <a href='vscode-notebook-cell://wsl%2Bubuntu/mnt/c/Users/lslat/QiskitProjects/VariationalWavefunction/quantum_kernel/notebooks/data_visualization/hyp_tuning_comparison.ipynb#ch0000003vscode-remote?line=60'>61</a>\u001b[0m plot_one_score(dfs[label], ax[idx], metric_to_plot, \u001b[39m'\u001b[39m\u001b[39mlog_scaling_factor\u001b[39m\u001b[39m'\u001b[39m, legend \u001b[39m=\u001b[39m idx\u001b[39m==\u001b[39m\u001b[39m0\u001b[39m,dims\u001b[39m=\u001b[39mdims)\n\u001b[1;32m     <a href='vscode-notebook-cell://wsl%2Bubuntu/mnt/c/Users/lslat/QiskitProjects/VariationalWavefunction/quantum_kernel/notebooks/data_visualization/hyp_tuning_comparison.ipynb#ch0000003vscode-remote?line=61'>62</a>\u001b[0m \u001b[39m#ax[idx].set_title(r\"\\texttt{\"+label2dataset[label]+r\"}\", fontsize=12)\u001b[39;00m\n\u001b[1;32m     <a href='vscode-notebook-cell://wsl%2Bubuntu/mnt/c/Users/lslat/QiskitProjects/VariationalWavefunction/quantum_kernel/notebooks/data_visualization/hyp_tuning_comparison.ipynb#ch0000003vscode-remote?line=62'>63</a>\u001b[0m \u001b[39mif\u001b[39;00m is_leftmost:\n",
      "\u001b[0;31mKeyError\u001b[0m: 'kmnist'"
     ]
    },
    {
     "name": "stderr",
     "output_type": "stream",
     "text": [
      "findfont: Font family ['serif'] not found. Falling back to DejaVu Sans.\n",
      "findfont: Generic family 'serif' not found because none of the following families were found: Times\n",
      "findfont: Font family ['serif'] not found. Falling back to DejaVu Sans.\n",
      "findfont: Generic family 'serif' not found because none of the following families were found: Times\n"
     ]
    },
    {
     "data": {
      "image/png": "[encoded data removed]",
      "text/plain": [
       "<Figure size 748.066x249.355 with 2 Axes>"
      ]
     },
     "metadata": {
      "needs_background": "light"
     },
     "output_type": "display_data"
    }
   ],
   "source": [
    "plot_scores_Sparse_IQP(dfs,'test_score',dims=18)\n",
    "plt.savefig('/mnt/c/Users/lslat/Data/QK_project/figs/hproj_Sparse_IQP_test_accuracy.pdf')"
   ]
  },
  {
   "cell_type": "code",
   "execution_count": null,
   "metadata": {},
   "outputs": [
    {
     "name": "stdout",
     "output_type": "stream",
     "text": [
      "plasticc\n",
      "For /mnt/c/Users/lslat/Data/QK_project/results/Heisenberg1D/plasticc/, using aggregated pickle from /mnt/c/Users/lslat/Data/QK_project/results/Heisenberg1D/plasticc/aggregated.p\n",
      "fashion-mnist\n",
      "For /mnt/c/Users/lslat/Data/QK_project/results/Heisenberg1D/fashion-mnist/, using aggregated pickle from /mnt/c/Users/lslat/Data/QK_project/results/Heisenberg1D/fashion-mnist/aggregated.p\n",
      "kmnist\n",
      "For /mnt/c/Users/lslat/Data/QK_project/results/Heisenberg1D/kmnist/, using aggregated pickle from /mnt/c/Users/lslat/Data/QK_project/results/Heisenberg1D/kmnist/aggregated.p\n"
     ]
    }
   ],
   "source": [
    "dfs = {}\n",
    "\n",
    "folders = [\n",
    "    (\"/mnt/c/Users/lslat/Data/QK_project/results/Heisenberg1D/plasticc/\",\"plasticc\"),\n",
    "    (\"/mnt/c/Users/lslat/Data/QK_project/results/Heisenberg1D/fashion-mnist/\",\"fashion-mnist\"),\n",
    "    (\"/mnt/c/Users/lslat/Data/QK_project/results/Heisenberg1D/kmnist/\",\"kmnist\")\n",
    "]\n",
    "\n",
    "for folder, dataset_name in folders:\n",
    "    label = Path(folder).stem\n",
    "    print(label)\n",
    "    if \"Sparse_IQP\" in folder:\n",
    "        prefix = \"Sparse_IQP\"\n",
    "    else:\n",
    "        prefix = \"dim\"\n",
    "    all_pickles_paths = list(Path(folder).glob(f\"{prefix}*.p\"))\n",
    "    npickles = len(all_pickles_paths)\n",
    "    # check if the data in the pickles has been aggregated before\n",
    "    # if not, compute an aggregated pickle with all the extra pickles\n",
    "    must_reaggregate = True\n",
    "    path_aggregated = Path(folder, \"aggregated.p\")\n",
    "    if path_aggregated.exists():\n",
    "        aggregated_df = pickle.load(open(path_aggregated, \"rb\"))\n",
    "        if len(aggregated_df) == npickles:\n",
    "            must_reaggregate = False\n",
    "            print(f\"For {folder}, using aggregated pickle from {path_aggregated}\")\n",
    "            dfs[label] = copy.deepcopy(aggregated_df)\n",
    "    if must_reaggregate:\n",
    "        aggregated_df = aggregate_pickles(all_pickles_paths, dataset_name)\n",
    "        dfs[label] = copy.deepcopy(aggregated_df)\n",
    "        print(f\"For {folder}, saving aggregated pickle in {path_aggregated}\")\n",
    "        pickle.dump(aggregated_df, open(path_aggregated, \"wb\"))\n",
    "    dfs[label] = dfs[label][dfs[label]['dataset_dim'] <= 22] \n",
    "    if \"Sparse_IQP\" in folder:\n",
    "        dfs[label]['Number of qubits'] = dfs[label]['dataset_dim']\n",
    "    else:\n",
    "        dfs[label]['Number of qubits'] = dfs[label]['dataset_dim'] + 1"
   ]
  },
  {
   "cell_type": "code",
   "execution_count": null,
   "metadata": {},
   "outputs": [],
   "source": [
    "pretty_print_dict = {\n",
    "    'test_score' : 'Prediction accuracy',\n",
    "    'train_score' : 'Train accuracy',\n",
    "    'evo_time' : 'Scaling factor',\n",
    "    'scaling_factor' : 'Scaling factor',\n",
    "    'log_scaling_factor' : 'Log10 Scaling Factor'\n",
    "}\n",
    "\n",
    "palette = sns.color_palette(\"viridis\",23)\n",
    "legend_elements = []\n",
    "\n",
    "\n",
    "def plot_one_score2(df, ax, metric_to_plot, x_axis_metric, legend=False,dims=None,r=0):\n",
    "    \"\"\"\n",
    "    Plot one\n",
    "    \"\"\"\n",
    "    #dims=list(sorted(set(df['Number of qubits'])))\n",
    "    ks=list(sorted(set(df['k'])))\n",
    "    for idx3, k in enumerate(ks):\n",
    "        to_plot = df[\n",
    "            (df['Number of qubits'] == dims) & (df['k'] == k\n",
    "            ) & (df['r']==r)\n",
    "        ]\n",
    "        x = sorted(set(to_plot[x_axis_metric]))\n",
    "        x = [ii for ii in x if ii <= 20]\n",
    "        y = [to_plot[\n",
    "            to_plot[x_axis_metric] == evo_time\n",
    "        ][metric_to_plot].mean() for evo_time in x]\n",
    "        x = [(2/df['n_trotter'])*ii for ii in x]\n",
    "        lp = ax.plot(\n",
    "            x,y,\n",
    "            label=str(k), \n",
    "            color=palette[3*k]\n",
    "        )\n",
    "        if legend:\n",
    "            legend_elements.append(lp[0])\n",
    "    ax.set_xscale(\"log\")    \n",
    "    ax.set_xlabel(pretty_print_dict[x_axis_metric], fontsize=12)\n",
    "    ax.xaxis.set_tick_params(labelsize=12)\n",
    "    ax.yaxis.set_tick_params(labelsize=12)\n",
    "    # Shrink current axis's height by 20% on the top\n",
    "    box = ax.get_position()\n",
    "    ax.set_position([box.x0, box.y0+0.025 * box.height,\n",
    "                     box.width, box.height * 0.7])\n",
    "\n",
    "def plot_scores_Heisenberg1D(dfs, metric_to_plot,dims,r=0):\n",
    "    \"\"\"\n",
    "    Plot test score for Heisenberg1D\n",
    "    \"\"\"\n",
    "    labels = ['fashion-mnist', 'kmnist', 'plasticc']\n",
    "    # \\textwidth is 6.92654 in\n",
    "    f, ax = plt.subplots(1, len(labels), figsize=(1.5*6.92654, 2*6.92654/4), sharey=True)\n",
    "    plt.subplots_adjust(wspace=0.01)\n",
    "    for idx, label in enumerate(labels):\n",
    "        is_leftmost = idx==0\n",
    "        is_rightmost = idx==len(labels)-1\n",
    "        plot_one_score2(dfs[label], ax[idx], metric_to_plot, 'evo_time', legend = idx==0,dims=dims,r=0)\n",
    "        #ax[idx].set_title(r\"\\texttt{\"+label2dataset[label]+r\"}\", fontsize=12)\n",
    "        if is_leftmost:\n",
    "            ax[idx].set_ylabel(pretty_print_dict[metric_to_plot], fontsize=12)\n",
    "            ax[idx].set_yticks([0.5, 0.6, 0.7, 0.8, 0.9])\n",
    "        else:\n",
    "            ax[idx].yaxis.set_ticks_position('none')\n",
    "        ax[idx].set_title(label)\n",
    "    for one_ax in ax:\n",
    "        lp_r = one_ax.hlines(y=0.5, xmin=one_ax.get_xlim()[0], xmax=one_ax.get_xlim()[1], \n",
    "                 color='k', linestyle='dashed', label='Random guess')\n",
    "\n",
    "    ax[1].legend(\n",
    "        handles=legend_elements[:]+[lp_r],\n",
    "        title='K (interaction range)',\n",
    "        loc='upper center', \n",
    "        bbox_to_anchor=(0.5, 1.4), \n",
    "        ncol=4, \n",
    "        labelspacing=0.1,\n",
    "        columnspacing=1,\n",
    "    )\n",
    "    f.suptitle('Heisenberg1D',fontsize=16)\n"
   ]
  },
  {
   "cell_type": "code",
   "execution_count": null,
   "metadata": {},
   "outputs": [
    {
     "data": {
      "image/png": "[encoded data removed]",
      "text/plain": [
       "<Figure size 748.066x249.355 with 3 Axes>"
      ]
     },
     "metadata": {
      "needs_background": "light"
     },
     "output_type": "display_data"
    }
   ],
   "source": [
    "plot_scores_Heisenberg1D(dfs,'test_score',dims=18)\n",
    "plt.savefig('/mnt/c/Users/lslat/Data/QK_project/figs/Heisenberg1D_test_accuracy.pdf')"
   ]
  },
  {
   "cell_type": "code",
   "execution_count": null,
   "metadata": {},
   "outputs": [
    {
     "name": "stdout",
     "output_type": "stream",
     "text": [
      "plasticc\n"
     ]
    },
    {
     "name": "stderr",
     "output_type": "stream",
     "text": [
      "100%|██████████| 311/311 [04:29<00:00,  1.16it/s]"
     ]
    },
    {
     "name": "stdout",
     "output_type": "stream",
     "text": [
      "For /mnt/c/Users/lslat/Data/QK_project/results/Sparse_IQPm/plasticc/, saving aggregated pickle in /mnt/c/Users/lslat/Data/QK_project/results/Sparse_IQPm/plasticc/aggregated.p\n",
      "fashion-mnist\n"
     ]
    },
    {
     "name": "stderr",
     "output_type": "stream",
     "text": [
      "\n"
     ]
    },
    {
     "ename": "IndexError",
     "evalue": "list index out of range",
     "output_type": "error",
     "traceback": [
      "\u001b[0;31m---------------------------------------------------------------------------\u001b[0m",
      "\u001b[0;31mIndexError\u001b[0m                                Traceback (most recent call last)",
      "\u001b[1;32m/mnt/c/Users/lslat/Code/quantum_kernel/notebooks/figs/fig2a.ipynb Cell 9'\u001b[0m in \u001b[0;36m<cell line: 9>\u001b[0;34m()\u001b[0m\n\u001b[1;32m     <a href='vscode-notebook-cell://wsl%2Bubuntu/mnt/c/Users/lslat/Code/quantum_kernel/notebooks/figs/fig2a.ipynb#ch0000008vscode-remote?line=26'>27</a>\u001b[0m         dfs[label] \u001b[39m=\u001b[39m copy\u001b[39m.\u001b[39mdeepcopy(aggregated_df)\n\u001b[1;32m     <a href='vscode-notebook-cell://wsl%2Bubuntu/mnt/c/Users/lslat/Code/quantum_kernel/notebooks/figs/fig2a.ipynb#ch0000008vscode-remote?line=27'>28</a>\u001b[0m \u001b[39mif\u001b[39;00m must_reaggregate:\n\u001b[0;32m---> <a href='vscode-notebook-cell://wsl%2Bubuntu/mnt/c/Users/lslat/Code/quantum_kernel/notebooks/figs/fig2a.ipynb#ch0000008vscode-remote?line=28'>29</a>\u001b[0m     aggregated_df \u001b[39m=\u001b[39m aggregate_pickles(all_pickles_paths, dataset_name)\n\u001b[1;32m     <a href='vscode-notebook-cell://wsl%2Bubuntu/mnt/c/Users/lslat/Code/quantum_kernel/notebooks/figs/fig2a.ipynb#ch0000008vscode-remote?line=29'>30</a>\u001b[0m     dfs[label] \u001b[39m=\u001b[39m copy\u001b[39m.\u001b[39mdeepcopy(aggregated_df)\n\u001b[1;32m     <a href='vscode-notebook-cell://wsl%2Bubuntu/mnt/c/Users/lslat/Code/quantum_kernel/notebooks/figs/fig2a.ipynb#ch0000008vscode-remote?line=30'>31</a>\u001b[0m     \u001b[39mprint\u001b[39m(\u001b[39mf\u001b[39m\u001b[39m\"\u001b[39m\u001b[39mFor \u001b[39m\u001b[39m{\u001b[39;00mfolder\u001b[39m}\u001b[39;00m\u001b[39m, saving aggregated pickle in \u001b[39m\u001b[39m{\u001b[39;00mpath_aggregated\u001b[39m}\u001b[39;00m\u001b[39m\"\u001b[39m)\n",
      "\u001b[1;32m/mnt/c/Users/lslat/Code/quantum_kernel/notebooks/figs/fig2a.ipynb Cell 2'\u001b[0m in \u001b[0;36maggregate_pickles\u001b[0;34m(all_pickles_paths, dataset_name)\u001b[0m\n\u001b[1;32m     <a href='vscode-notebook-cell://wsl%2Bubuntu/mnt/c/Users/lslat/Code/quantum_kernel/notebooks/figs/fig2a.ipynb#ch0000001vscode-remote?line=10'>11</a>\u001b[0m     res\u001b[39m.\u001b[39mupdate(\u001b[39mvars\u001b[39m(res[\u001b[39m'\u001b[39m\u001b[39margs\u001b[39m\u001b[39m'\u001b[39m]))\n\u001b[1;32m     <a href='vscode-notebook-cell://wsl%2Bubuntu/mnt/c/Users/lslat/Code/quantum_kernel/notebooks/figs/fig2a.ipynb#ch0000001vscode-remote?line=11'>12</a>\u001b[0m     all_res\u001b[39m.\u001b[39mappend(res)\n\u001b[0;32m---> <a href='vscode-notebook-cell://wsl%2Bubuntu/mnt/c/Users/lslat/Code/quantum_kernel/notebooks/figs/fig2a.ipynb#ch0000001vscode-remote?line=13'>14</a>\u001b[0m df_all \u001b[39m=\u001b[39m pd\u001b[39m.\u001b[39mDataFrame(all_res, columns\u001b[39m=\u001b[39mall_res[\u001b[39m0\u001b[39;49m]\u001b[39m.\u001b[39mkeys())\n\u001b[1;32m     <a href='vscode-notebook-cell://wsl%2Bubuntu/mnt/c/Users/lslat/Code/quantum_kernel/notebooks/figs/fig2a.ipynb#ch0000001vscode-remote?line=14'>15</a>\u001b[0m df_all \u001b[39m=\u001b[39m compute_additional_fields(df_all, dataset_name\u001b[39m=\u001b[39mdataset_name)\n\u001b[1;32m     <a href='vscode-notebook-cell://wsl%2Bubuntu/mnt/c/Users/lslat/Code/quantum_kernel/notebooks/figs/fig2a.ipynb#ch0000001vscode-remote?line=15'>16</a>\u001b[0m df_all\u001b[39m.\u001b[39mdrop(columns\u001b[39m=\u001b[39m[\u001b[39m'\u001b[39m\u001b[39mqkern_matrix_train\u001b[39m\u001b[39m'\u001b[39m, \u001b[39m'\u001b[39m\u001b[39mqkern_matrix_test\u001b[39m\u001b[39m'\u001b[39m], inplace\u001b[39m=\u001b[39m\u001b[39mTrue\u001b[39;00m)\n",
      "\u001b[0;31mIndexError\u001b[0m: list index out of range"
     ]
    }
   ],
   "source": [
    "dfs = {}\n",
    "\n",
    "folders = [\n",
    "    (\"/mnt/c/Users/lslat/Data/QK_project/results/Sparse_IQPm/plasticc/\",\"plasticc\"),\n",
    "    (\"/mnt/c/Users/lslat/Data/QK_project/results/Sparse_IQPm/fashion-mnist/\",\"fashion-mnist\"),\n",
    "    (\"/mnt/c/Users/lslat/Data/QK_project/results/Sparse_IQPm/kmnist/\",\"kmnist\")\n",
    "]\n",
    "\n",
    "for folder, dataset_name in folders:\n",
    "    label = Path(folder).stem\n",
    "    print(label)\n",
    "    if \"Sparse_IQP\" in folder:\n",
    "        prefix = \"Sparse_IQP\"\n",
    "    else:\n",
    "        prefix = \"dim\"\n",
    "    all_pickles_paths = list(Path(folder).glob(f\"{prefix}*.p\"))\n",
    "    npickles = len(all_pickles_paths)\n",
    "    # check if the data in the pickles has been aggregated before\n",
    "    # if not, compute an aggregated pickle with all the extra pickles\n",
    "    must_reaggregate = True\n",
    "    path_aggregated = Path(folder, \"aggregated.p\")\n",
    "    if path_aggregated.exists():\n",
    "        aggregated_df = pickle.load(open(path_aggregated, \"rb\"))\n",
    "        if len(aggregated_df) == npickles:\n",
    "            must_reaggregate = False\n",
    "            print(f\"For {folder}, using aggregated pickle from {path_aggregated}\")\n",
    "            dfs[label] = copy.deepcopy(aggregated_df)\n",
    "    if must_reaggregate:\n",
    "        aggregated_df = aggregate_pickles(all_pickles_paths, dataset_name)\n",
    "        dfs[label] = copy.deepcopy(aggregated_df)\n",
    "        print(f\"For {folder}, saving aggregated pickle in {path_aggregated}\")\n",
    "        pickle.dump(aggregated_df, open(path_aggregated, \"wb\"))\n",
    "    dfs[label] = dfs[label][dfs[label]['dataset_dim'] <= 22] \n",
    "    if \"Sparse_IQP\" in folder:\n",
    "        dfs[label]['Number of qubits'] = dfs[label]['dataset_dim']\n",
    "    else:\n",
    "        dfs[label]['Number of qubits'] = dfs[label]['dataset_dim'] + 1"
   ]
  },
  {
   "cell_type": "code",
   "execution_count": null,
   "metadata": {},
   "outputs": [],
   "source": [
    "def score_grid(dfs,x_metric,y_metric,dataset,dim=18,density=1):\n",
    "    label_dict={'log_scaling_factor':'Log10 Scaling Factor','log_int_scaling_factor':'Log10 Interaction Scaling Factor'}\n",
    "    fig, ax = plt.subplots(1,1)\n",
    "    df=dfs[dataset]\n",
    "    to_plot = df[\n",
    "            (df['Number of qubits'] == dim) & (df['density']==density)\n",
    "        ]\n",
    "    xs=sorted(set(to_plot[x_metric]))\n",
    "    ys=sorted(set(to_plot[y_metric]))\n",
    "    z_array=np.zeros((len(xs),len(ys)))\n",
    "    for i,x in enumerate(xs):\n",
    "        for j,y in enumerate(ys):\n",
    "            z=to_plot[(to_plot[x_metric]==x) & (to_plot[y_metric]==y)]\n",
    "            z_array[i][j]=z['test_score'].mean()\n",
    "    plt.imshow(z_array.T)\n",
    "    \n",
    "    ax.set_xticks(range(len(xs)),xs)\n",
    "    ax.set_yticks(range(len(ys)),ys)\n",
    "    plt.colorbar(ticks=[0.5, 0.6, 0.7, 0.8, 0.9])\n",
    "\n",
    "    ax.set_xlabel(label_dict[x_metric])\n",
    "    ax.set_ylabel(label_dict[y_metric])\n",
    "    return"
   ]
  },
  {
   "cell_type": "code",
   "execution_count": null,
   "metadata": {},
   "outputs": [
    {
     "data": {
      "image/png": "[encoded data removed]",
      "text/plain": [
       "<Figure size 432x288 with 2 Axes>"
      ]
     },
     "metadata": {
      "needs_background": "light"
     },
     "output_type": "display_data"
    }
   ],
   "source": [
    "dataset='plasticc'\n",
    "dim=18\n",
    "density=17\n",
    "\n",
    "score_grid(dfs,'log_scaling_factor','log_int_scaling_factor',dataset,dim=dim,density=density)\n",
    "plt.savefig(f'/mnt/c/Users/lslat/Data/QK_project/figs/scoregrid_{dataset}_dims_{dim}_density_{density}.pdf')"
   ]
  }
 ],
 "metadata": {
  "interpreter": {
   "hash": "55052c4936076760cf710cd2b620e3a0b8009f80cb8b04b58f47f6aa579d5b33"
  },
  "kernelspec": {
   "display_name": "Python 3.9.12",
   "language": "python",
   "name": "python3"
  },
  "language_info": {
   "codemirror_mode": {
    "name": "ipython",
    "version": 3
   },
   "file_extension": ".py",
   "mimetype": "text/x-python",
   "name": "python",
   "nbconvert_exporter": "python",
   "pygments_lexer": "ipython3",
   "version": "3.9.0"
  },
  "orig_nbformat": 4
 },
 "nbformat": 4,
 "nbformat_minor": 2
}
