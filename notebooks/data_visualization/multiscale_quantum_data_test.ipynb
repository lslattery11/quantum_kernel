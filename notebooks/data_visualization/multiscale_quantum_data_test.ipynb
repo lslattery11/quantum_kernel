{
 "cells": [
  {
   "cell_type": "code",
   "execution_count": 1,
   "metadata": {},
   "outputs": [],
   "source": [
    "from tqdm import tqdm\n",
    "import pickle\n",
    "import pandas as pd\n",
    "from pathlib import Path\n",
    "import numpy as np\n",
    "import copy\n",
    "import sys\n",
    "import os\n",
    "import seaborn as sns\n",
    "import matplotlib.pyplot as plt\n",
    "from matplotlib import rc\n",
    "from mpl_toolkits.axes_grid1 import make_axes_locatable\n",
    "from sklearn.metrics.pairwise import cosine_similarity,cosine_distances\n",
    "from sklearn.svm import SVC,SVR\n",
    "\n",
    "sys.path.append('/mnt/c/Users/lslat/Code/')\n",
    "sys.path.append('/mnt/c/Users/lslat/QiskitProjects/VariationalWavefunction/')\n",
    "\n",
    "from quantum_kernel.code.utils import get_dataset\n",
    "from quantum_kernel.code.visualization_utils import aggregate_quantum_data\n",
    "from quantum_kernel.code.utils import get_additional_qfields\n",
    "\n",
    "font = {'family': 'DejaVu Sans',\n",
    "        'weight': 'bold',\n",
    "        'size': 18}\n",
    "\n",
    "rc('font', **font)\n",
    "\n",
    "tqdm.pandas()"
   ]
  },
  {
   "cell_type": "code",
   "execution_count": 2,
   "metadata": {},
   "outputs": [],
   "source": [
    "dataset_name='single_z'\n",
    "kernel_name='MultiScale'\n",
    "kernel_folder='/mnt/c/Users/lslat/Data/QK_project/results/MultiScale/single_z'\n",
    "data_folder='/mnt/c/Users/lslat/Data/QK_project/quantum_data/MultiScale/single_z'\n"
   ]
  },
  {
   "cell_type": "code",
   "execution_count": 3,
   "metadata": {},
   "outputs": [],
   "source": [
    "data_dfs=aggregate_quantum_data(data_folder,'')\n",
    "kernel_dfs=aggregate_quantum_data(kernel_folder,'')"
   ]
  },
  {
   "cell_type": "code",
   "execution_count": 78,
   "metadata": {},
   "outputs": [],
   "source": [
    "scores=[]\n",
    "\n",
    "for i in range(len(kernel_dfs)):\n",
    "    kernel=kernel_dfs['qkern_matrix_train'][i]\n",
    "    kernel=np.exp(-1*kernel)\n",
    "    test=SVR(kernel='precomputed')\n",
    "\n",
    "    for j in range(len(data_dfs)):\n",
    "        x_vec=data_dfs['x_vec'][j]\n",
    "        y_vec=data_dfs['y_vec'][j]\n",
    "\n",
    "        test.fit(kernel,y_vec[0:800].reshape(800,))\n",
    "        score=test.score(kernel,y_vec[0:800])\n",
    "        \n",
    "        scores.append(score)"
   ]
  }
 ],
 "metadata": {
  "kernelspec": {
   "display_name": "Python 3.9.12",
   "language": "python",
   "name": "python3"
  },
  "language_info": {
   "codemirror_mode": {
    "name": "ipython",
    "version": 3
   },
   "file_extension": ".py",
   "mimetype": "text/x-python",
   "name": "python",
   "nbconvert_exporter": "python",
   "pygments_lexer": "ipython3",
   "version": "3.9.12"
  },
  "orig_nbformat": 4,
  "vscode": {
   "interpreter": {
    "hash": "55052c4936076760cf710cd2b620e3a0b8009f80cb8b04b58f47f6aa579d5b33"
   }
  }
 },
 "nbformat": 4,
 "nbformat_minor": 2
}
