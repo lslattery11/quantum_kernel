{
 "cells": [
  {
   "cell_type": "code",
   "execution_count": 1,
   "metadata": {},
   "outputs": [],
   "source": [
    "from tqdm import tqdm\n",
    "import pickle\n",
    "import pandas as pd\n",
    "from pathlib import Path\n",
    "import numpy as np\n",
    "import scipy\n",
    "import copy\n",
    "import sys\n",
    "import os\n",
    "from typing import Optional, Union, Sequence, Mapping, List, Set\n",
    "import seaborn as sns\n",
    "import matplotlib.pyplot as plt\n",
    "from matplotlib import rc\n",
    "from matplotlib import cm\n",
    "from matplotlib.lines import Line2D\n",
    "\n",
    "import warnings\n",
    "from mpl_toolkits.axes_grid1 import make_axes_locatable\n",
    "from sklearn.metrics.pairwise import cosine_similarity,cosine_distances\n",
    "\n",
    "sys.path.append('/mnt/c/Users/lslat/Code/')\n",
    "sys.path.append('/mnt/c/Users/lslat/QiskitProjects/VariationalWavefunction/')\n",
    "\n",
    "from quantum_kernel.code.utils import get_dataset\n",
    "from quantum_kernel.code.visualization_utils import aggregate_shapes,filter_df\n",
    "from quantum_kernel.code.kernel_measures.kernel_geometry import purity_average, purity_of_average\n",
    "from quantum_kernel.code.kernel_measures.eigenvalue_scaling import get_eigenvalue_scaling,compute_dataframe_kernel_eigenvalues\n",
    "\n",
    "font = {'family': 'DejaVu Sans',\n",
    "        'weight': 'bold',\n",
    "        'size': 18}\n",
    "\n",
    "rc('font', **font)\n",
    "\n",
    "tqdm.pandas()\n",
    "warnings.filterwarnings(\"ignore\")\n"
   ]
  },
  {
   "cell_type": "code",
   "execution_count": 2,
   "metadata": {},
   "outputs": [],
   "source": [
    "# Get kernel results for the different ml models and dataset.d\n",
    "dfs = {}\n",
    "folders = [\n",
    "    (\"/mnt/c/Users/lslat/Data/QK_project/results/Sparse_IQP/final_gennorm\",'Sparse_IQP'),\n",
    "]\n",
    "cols_to_drop=['qkern_matrix_train', 'args', 'K_train_time', 'rdms', \n",
    "'samples', 'mu','sigma', 'outpath','seed', 'projected']\n",
    "for folder,prefix in folders:\n",
    "    if prefix in dfs:\n",
    "        temp = aggregate_shapes(folder,prefix,cols_to_drop=cols_to_drop)\n",
    "        dfs[prefix] = pd.concat([dfs[prefix], temp])\n",
    "    else:\n",
    "        dfs[prefix] = aggregate_shapes(folder,prefix)\n"
   ]
  },
  {
   "cell_type": "code",
   "execution_count": 3,
   "metadata": {},
   "outputs": [],
   "source": [
    "save_folder='/mnt/c/Users/lslat/Data/QK_project/results/figs/'"
   ]
  },
  {
   "cell_type": "code",
   "execution_count": 4,
   "metadata": {},
   "outputs": [],
   "source": [
    "iqp_df=dfs['Sparse_IQP']"
   ]
  },
  {
   "cell_type": "code",
   "execution_count": 6,
   "metadata": {},
   "outputs": [
    {
     "data": {
      "text/plain": [
       "512644"
      ]
     },
     "execution_count": 6,
     "metadata": {},
     "output_type": "execute_result"
    }
   ],
   "source": [
    "sys.getsizeof(iqp_df)"
   ]
  },
  {
   "cell_type": "code",
   "execution_count": 8,
   "metadata": {},
   "outputs": [
    {
     "data": {
      "text/plain": [
       "Index(['qkern_matrix_train', 'args', 'K_train_time', 'rdms', 'samples', 'mu',\n",
       "       'sigma', 'outpath', 'dataset_dim', 'scaling_factor',\n",
       "       'int_scaling_factor', 'density', 'beta', 'seed', 'projected',\n",
       "       'kernel_eigenvalues'],\n",
       "      dtype='object')"
      ]
     },
     "execution_count": 8,
     "metadata": {},
     "output_type": "execute_result"
    }
   ],
   "source": [
    "iqp_df.columns"
   ]
  },
  {
   "cell_type": "code",
   "execution_count": null,
   "metadata": {},
   "outputs": [
    {
     "data": {
      "text/plain": [
       "<matplotlib.legend.Legend at 0x7f9a88482f10>"
      ]
     },
     "execution_count": 6,
     "metadata": {},
     "output_type": "execute_result"
    },
    {
     "data": {
      "image/png": "[encoded data removed]",
      "text/plain": [
       "<Figure size 1440x360 with 3 Axes>"
      ]
     },
     "metadata": {
      "needs_background": "light"
     },
     "output_type": "display_data"
    }
   ],
   "source": [
    "colormap=cm.viridis\n",
    "gammas=[0.2,0.3,0.4,0.5,0.6,0.7,0.8,0.9]\n",
    "test_sfs=set(iqp_df.scaling_factor)\n",
    "betas=[0.1,1.0,2.0]\n",
    "fig, axs = plt.subplots(1,len(betas),figsize=(20,5))\n",
    "for i,beta in enumerate(betas):\n",
    "    filter={'beta': beta}\n",
    "    new_df=compute_dataframe_kernel_eigenvalues(iqp_df,filter,k=3)\n",
    "\n",
    "    ax=axs[i]\n",
    "    quantum_df=new_df[(new_df['density']!=0)]\n",
    "    classical_df=new_df[(new_df['density']==0)]\n",
    "\n",
    "    lines=[]\n",
    "    handles=[]\n",
    "    for gamma in gammas:\n",
    "        test_sfs=list(set(quantum_df.scaling_factor))\n",
    "        test_sfs.sort()\n",
    "        q_curve=get_eigenvalue_scaling(quantum_df,gamma,test_sfs)\n",
    "        test_sfs=list(set(classical_df.scaling_factor))\n",
    "        test_sfs.sort()\n",
    "        c_curve=get_eigenvalue_scaling(classical_df,gamma,test_sfs)\n",
    "        label=r'$\\gamma_{max}$='+str(gamma)\n",
    "        color=colormap(gamma)\n",
    "        line=ax.errorbar(q_curve[:,0],q_curve[:,1],label=label,color=color)\n",
    "        _=ax.errorbar(c_curve[:,0],c_curve[:,1],color=color,ls='-.')\n",
    "        lines.append(line[0])\n",
    "        handles.append(label)\n",
    "\n",
    "    ax.set_xlabel('Dataset dimension')\n",
    "    ax.set_ylabel('IQP scaling factor')\n",
    "    ax.set_xlim([4,20])\n",
    "    ax.set_ylim([0.01,0.3])\n",
    "    ax.set_yscale('log')\n",
    "    ax.set_xscale('log')\n",
    "    ax.set_title(r'$\\beta$='+str(beta))\n",
    "\n",
    "ax.legend(lines,handles,bbox_to_anchor=(1,1))\n",
    "#fig.savefig(f'{save_folder}IQP_fixed_gamma_decay_curves_plots.pdf')"
   ]
  },
  {
   "cell_type": "code",
   "execution_count": null,
   "metadata": {},
   "outputs": [],
   "source": [
    "test_sfs=list(set(classical_df.scaling_factor))\n",
    "test_sfs.sort()\n",
    "c_curve=get_eigenvalue_scaling(classical_df,gamma,test_sfs)"
   ]
  },
  {
   "cell_type": "code",
   "execution_count": null,
   "metadata": {},
   "outputs": [],
   "source": [
    "beta=1.0\n",
    "filter={'beta': beta}\n",
    "new_df=compute_dataframe_kernel_eigenvalues(iqp_df,filter,k=3)\n",
    "\n",
    "classical_df=new_df[(new_df['density']==0)]\n",
    "\n",
    "test_sfs=list(set(classical_df.scaling_factor))\n",
    "test_sfs.sort()\n",
    "c_curve=get_eigenvalue_scaling(classical_df,gamma,test_sfs)"
   ]
  },
  {
   "cell_type": "code",
   "execution_count": null,
   "metadata": {},
   "outputs": [],
   "source": [
    "from sklearn.linear_model import LinearRegression"
   ]
  },
  {
   "cell_type": "code",
   "execution_count": null,
   "metadata": {},
   "outputs": [],
   "source": [
    "gamma=0.2\n",
    "fitted_points=[]\n",
    "lam_df=classical_df[(classical_df['scaling_factor']==test_sfs[5])]\n",
    "#note xp and yp are different than lambda vs. N normally plotted because we want to interpolate to find the x intercept.\n",
    "xp=lam_df.dataset_dim\n",
    "xp=np.array(list(set(xp.values)))\n",
    "#sort for interpolation\n",
    "points=[]\n",
    "for x in xp:\n",
    "    ys=lam_df[(lam_df['dataset_dim']==x)].apply(lambda x: max(x.kernel_eigenvalues),axis=1).values\n",
    "    xs=np.array(len(ys)*[x])\n",
    "    new_points=list(zip(xs,ys))\n",
    "    points=points+new_points\n",
    "points=np.array(points) \n",
    "#fit exponential decay to the points.\n",
    "x=points[:,0].reshape(-1,1)\n",
    "y=points[:,1].reshape(-1,1)\n",
    "\n",
    "reg=LinearRegression(fit_intercept=True).fit(x,np.log(y))\n",
    "#solution np.log(y)=a+b*x -> y=exp(a)*exp(b*x)\n",
    "#now solve for x, np.log(gamma) = a+b*x -> x = (np.log(gamma)-a)/b\n",
    "ypred=(np.log(gamma)-reg.intercept_[0])/reg.coef_[0,0]\n",
    "yerr=()\n",
    "fitted_points.append((ypred,test_sfs[0]))"
   ]
  },
  {
   "cell_type": "code",
   "execution_count": null,
   "metadata": {},
   "outputs": [],
   "source": [
    "import statsmodels.api as sm"
   ]
  },
  {
   "cell_type": "code",
   "execution_count": null,
   "metadata": {},
   "outputs": [
    {
     "ename": "NameError",
     "evalue": "name 'X' is not defined",
     "output_type": "error",
     "traceback": [
      "\u001b[0;31m---------------------------------------------------------------------------\u001b[0m",
      "\u001b[0;31mNameError\u001b[0m                                 Traceback (most recent call last)",
      "\u001b[1;32m/mnt/c/Users/lslat/Code/quantum_kernel/notebooks/data_visualization/iqp_fidelity_kernel_final_plots.ipynb Cell 12\u001b[0m in \u001b[0;36m<cell line: 1>\u001b[0;34m()\u001b[0m\n\u001b[0;32m----> <a href='vscode-notebook-cell://wsl%2Bubuntu/mnt/c/Users/lslat/Code/quantum_kernel/notebooks/data_visualization/iqp_fidelity_kernel_final_plots.ipynb#ch0000010vscode-remote?line=0'>1</a>\u001b[0m model \u001b[39m=\u001b[39m sm\u001b[39m.\u001b[39mOLS(y, X)\u001b[39m.\u001b[39mfit() \n\u001b[1;32m      <a href='vscode-notebook-cell://wsl%2Bubuntu/mnt/c/Users/lslat/Code/quantum_kernel/notebooks/data_visualization/iqp_fidelity_kernel_final_plots.ipynb#ch0000010vscode-remote?line=1'>2</a>\u001b[0m model\u001b[39m.\u001b[39mbse\n",
      "\u001b[0;31mNameError\u001b[0m: name 'X' is not defined"
     ]
    }
   ],
   "source": [
    "model = sm.OLS(y, X).fit() \n",
    "model.bse "
   ]
  }
 ],
 "metadata": {
  "kernelspec": {
   "display_name": "Python 3.9.12",
   "language": "python",
   "name": "python3"
  },
  "language_info": {
   "codemirror_mode": {
    "name": "ipython",
    "version": 3
   },
   "file_extension": ".py",
   "mimetype": "text/x-python",
   "name": "python",
   "nbconvert_exporter": "python",
   "pygments_lexer": "ipython3",
   "version": "3.9.12"
  },
  "orig_nbformat": 4,
  "vscode": {
   "interpreter": {
    "hash": "55052c4936076760cf710cd2b620e3a0b8009f80cb8b04b58f47f6aa579d5b33"
   }
  }
 },
 "nbformat": 4,
 "nbformat_minor": 2
}
