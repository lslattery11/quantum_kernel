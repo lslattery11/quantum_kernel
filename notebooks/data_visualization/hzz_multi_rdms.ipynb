{
 "cells": [
  {
   "cell_type": "code",
   "execution_count": 1,
   "metadata": {},
   "outputs": [],
   "source": [
    "from tqdm import tqdm\n",
    "import pandas as pd\n",
    "import numpy as np\n",
    "import sys\n",
    "import itertools\n",
    "import seaborn as sns\n",
    "import matplotlib.pyplot as plt\n",
    "from matplotlib import rc\n",
    "import math\n",
    "from sklearn.metrics import hamming_loss,confusion_matrix\n",
    "\n",
    "sys.path.append('/mnt/c/Users/lslat/Code/')\n",
    "sys.path.append('/mnt/c/Users/lslat/QiskitProjects/VariationalWavefunction/')\n",
    "\n",
    "from quantum_kernel.code.utils import get_dataset,precomputed_kernel_GridSearchCV\n",
    "from quantum_kernel.code.visualization_utils import aggregate_folder\n",
    "from sklearn.svm import SVC\n",
    "\n",
    "font = {'family': 'DejaVu Sans',\n",
    "        'weight': 'bold',\n",
    "        'size': 18}\n",
    "\n",
    "rc('font', **font)\n",
    "\n",
    "tqdm.pandas()"
   ]
  },
  {
   "cell_type": "code",
   "execution_count": null,
   "metadata": {},
   "outputs": [],
   "source": [
    "# Get kernel results for the different ml models and dataset.d\n",
    "dfs = {}\n",
    "dataset_name='plasticc'\n",
    "folders = [\n",
    "    (\"/mnt/c/Users/lslat/Data/QK_project/results/hproj_HZZMulti/\"+dataset_name,'HZZMulti'),\n",
    "]\n",
    "\n",
    "for folder, kernel_name in folders:\n",
    "    if dataset_name in dfs:\n",
    "        temp = aggregate_folder(folder, dataset_name, kernel_name=kernel_name)[\n",
    "            dataset_name]\n",
    "        dfs[dataset_name] = pd.concat([dfs[dataset_name], temp])\n",
    "    else:\n",
    "        dfs[dataset_name] = aggregate_folder(\n",
    "            folder, dataset_name, kernel_name=kernel_name)[dataset_name]\n",
    "\n",
    "save_folder='/mnt/c/Users/lslat/Data/QK_project/figs/'\n"
   ]
  },
  {
   "cell_type": "code",
   "execution_count": null,
   "metadata": {},
   "outputs": [],
   "source": [
    "df = dfs[dataset_name]\n"
   ]
  }
 ],
 "metadata": {
  "interpreter": {
   "hash": "55052c4936076760cf710cd2b620e3a0b8009f80cb8b04b58f47f6aa579d5b33"
  },
  "kernelspec": {
   "display_name": "Python 3.9.0",
   "language": "python",
   "name": "python3"
  },
  "language_info": {
   "codemirror_mode": {
    "name": "ipython",
    "version": 3
   },
   "file_extension": ".py",
   "mimetype": "text/x-python",
   "name": "python",
   "nbconvert_exporter": "python",
   "pygments_lexer": "ipython3",
   "version": "3.9.0"
  },
  "orig_nbformat": 4
 },
 "nbformat": 4,
 "nbformat_minor": 2
}
