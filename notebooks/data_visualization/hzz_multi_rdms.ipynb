{
 "cells": [
  {
   "cell_type": "code",
   "execution_count": 1,
   "metadata": {},
   "outputs": [],
   "source": [
    "from tqdm import tqdm\n",
    "import pandas as pd\n",
    "import numpy as np\n",
    "import sys\n",
    "import copy\n",
    "import itertools\n",
    "import seaborn as sns\n",
    "import matplotlib.pyplot as plt\n",
    "from matplotlib import rc\n",
    "from mpl_toolkits.axes_grid1 import make_axes_locatable\n",
    "import math\n",
    "from sklearn.metrics import hamming_loss,confusion_matrix\n",
    "\n",
    "sys.path.append('/mnt/c/Users/lslat/Code/')\n",
    "sys.path.append('/mnt/c/Users/lslat/QiskitProjects/VariationalWavefunction/')\n",
    "\n",
    "from quantum_kernel.code.utils import get_dataset,precomputed_kernel_GridSearchCV\n",
    "from quantum_kernel.code.visualization_utils import aggregate_folder,filter_df\n",
    "from quantum_kernel.code.kernel_measures.kernel_geometry import purity_average, purity_of_average\n",
    "from sklearn.svm import SVC\n",
    "\n",
    "font = {'family': 'DejaVu Sans',\n",
    "        'weight': 'bold',\n",
    "        'size': 18}\n",
    "\n",
    "rc('font', **font)\n",
    "\n",
    "tqdm.pandas()"
   ]
  },
  {
   "cell_type": "code",
   "execution_count": 2,
   "metadata": {},
   "outputs": [
    {
     "name": "stdout",
     "output_type": "stream",
     "text": [
      "For /mnt/c/Users/lslat/Data/QK_project/results/hproj_HZZMulti/fashion-mnist, using aggregated pickle from /mnt/c/Users/lslat/Data/QK_project/results/hproj_HZZMulti/fashion-mnist/aggregated.p\n"
     ]
    }
   ],
   "source": [
    "# Get kernel results for the different ml models and dataset.d\n",
    "dfs = {}\n",
    "dataset_name='fashion-mnist'\n",
    "folders = [\n",
    "    (\"/mnt/c/Users/lslat/Data/QK_project/results/hproj_HZZMulti/\"+dataset_name,'HZZMulti'),\n",
    "]\n",
    "\n",
    "for folder, kernel_name in folders:\n",
    "    if dataset_name in dfs:\n",
    "        temp = aggregate_folder(folder, dataset_name, kernel_name=kernel_name)[\n",
    "            dataset_name]\n",
    "        dfs[dataset_name] = pd.concat([dfs[dataset_name], temp])\n",
    "    else:\n",
    "        dfs[dataset_name] = aggregate_folder(\n",
    "            folder, dataset_name, kernel_name=kernel_name)[dataset_name]\n",
    "\n",
    "save_folder='/mnt/c/Users/lslat/Data/QK_project/figs/'\n"
   ]
  },
  {
   "cell_type": "code",
   "execution_count": 3,
   "metadata": {},
   "outputs": [],
   "source": [
    "def rdm_purity_info(df: pd.DataFrame,\n",
    "    df_filter:dict,\n",
    "    qubit: int = 0,\n",
    "    ):\n",
    "    new_df=filter_df(df,df_filter)\n",
    "\n",
    "    lam1s=copy.copy(new_df['lam1'].values)\n",
    "    lam1s=list(set(lam1s))\n",
    "    lam1s.sort()\n",
    "\n",
    "    lam2s=copy.copy(new_df['lam2'].values)\n",
    "    lam2s=list(set(lam2s))\n",
    "    lam2s.sort()\n",
    "    \n",
    "    pa_matrix=np.zeros((len(lam1s),len(lam2s)))\n",
    "    pofa_matrix=np.zeros((len(lam1s),len(lam2s)))\n",
    "    \n",
    "    for i,lam1 in enumerate(lam1s):\n",
    "        for j,lam2 in enumerate(lam2s):\n",
    "            #try to compute rdm values\n",
    "            try:\n",
    "                rdms=new_df.loc[(new_df['lam1']==lam1) & (new_df['lam2']==lam2)]['rdms'].values[0]\n",
    "                pa=purity_average(rdms)\n",
    "                pofa=purity_of_average(rdms)\n",
    "                pa_matrix[i,j]=pa[qubit]\n",
    "                pofa_matrix[i,j]=pofa[qubit]\n",
    "               \n",
    "            #if fail set matrix element to -1\n",
    "            except:\n",
    "                pa_matrix[i,j]=-1\n",
    "                pofa_matrix[i,j]=-1\n",
    "    return pa_matrix,pofa_matrix,lam1s,lam2s"
   ]
  },
  {
   "cell_type": "code",
   "execution_count": 4,
   "metadata": {},
   "outputs": [],
   "source": [
    "def kernel_info(\n",
    "    df: pd.DataFrame,\n",
    "    df_filter: dict,\n",
    "    qubit:int = 0,\n",
    "    ):\n",
    "    new_df=filter_df(df,df_filter)\n",
    "    dataset_dims=copy.copy(new_df['dataset_dim'].values)\n",
    "    dataset_dims=list(set(dataset_dims))\n",
    "    dataset_dims.sort()\n",
    "\n",
    "    kernels=[]\n",
    "    for dim in dataset_dims:\n",
    "        kernel=new_df.loc[(new_df['dataset_dim']==dim)]['qkern_matrix_train'].values[0]\n",
    "        kernels.append(kernel)\n",
    "    \n",
    "    return kernels,dataset_dims"
   ]
  },
  {
   "cell_type": "code",
   "execution_count": 5,
   "metadata": {},
   "outputs": [],
   "source": [
    "df=dfs[dataset_name]\n",
    "dataset_dim=10\n",
    "filter={'dataset_dim':dataset_dim,'evo_time':1.0,'n_trotter':10,'kernel_name':'HZZMulti'}"
   ]
  },
  {
   "cell_type": "code",
   "execution_count": 6,
   "metadata": {},
   "outputs": [],
   "source": [
    "pa_matrix, pofa_matrix, lam1s, lam2s = rdm_purity_info(df,filter)"
   ]
  },
  {
   "cell_type": "code",
   "execution_count": 7,
   "metadata": {},
   "outputs": [
    {
     "data": {
      "image/png": "[encoded data removed]",
      "text/plain": [
       "<Figure size 1440x2160 with 6 Axes>"
      ]
     },
     "metadata": {
      "needs_background": "light"
     },
     "output_type": "display_data"
    }
   ],
   "source": [
    "fig,axs=plt.subplots(1,3,figsize=(20,30))\n",
    "####### is lambda 1 and lambda 2 in the right order?\n",
    "ax = axs[0]\n",
    "img = ax.imshow(pa_matrix)\n",
    "\n",
    "ax.xaxis.tick_top()\n",
    "ax.set_xticks(np.arange(len(lam1s)), minor=False)\n",
    "ax.set_xticklabels(lam1s, rotation=45)\n",
    "ax.set_xlabel(r'$\\lambda 1$')\n",
    "ax.xaxis.set_label_position('top')\n",
    "\n",
    "ax.set_yticks(np.arange(len(lam2s)), minor=False)\n",
    "ax.set_yticklabels(lam2s)\n",
    "ax.set_ylabel(r'$\\lambda 2$')\n",
    "\n",
    "divider = make_axes_locatable(ax)\n",
    "cax = divider.append_axes('right', size='5%', pad=0.05)\n",
    "fig.colorbar(img, cax=cax)\n",
    "\n",
    "#######\n",
    "ax = axs[1]\n",
    "img = ax.imshow(pofa_matrix)\n",
    "\n",
    "ax.xaxis.tick_top()\n",
    "ax.set_xticks(np.arange(len(lam1s)), minor=False)\n",
    "ax.set_xticklabels(lam1s, rotation=45)\n",
    "ax.set_xlabel(r'$\\lambda 1$')\n",
    "ax.xaxis.set_label_position('top')\n",
    "\n",
    "ax.set_yticks(np.arange(len(lam2s)), minor=False)\n",
    "ax.set_yticklabels(lam2s)\n",
    "ax.set_ylabel(r'$\\lambda 2$')\n",
    "\n",
    "divider = make_axes_locatable(ax)\n",
    "cax = divider.append_axes('right', size='5%', pad=0.05)\n",
    "fig.colorbar(img, cax=cax)\n",
    "\n",
    "#######\n",
    "ax = axs[2]\n",
    "img = ax.imshow(pa_matrix-pofa_matrix)\n",
    "\n",
    "ax.xaxis.tick_top()\n",
    "ax.set_xticks(np.arange(len(lam1s)), minor=False)\n",
    "ax.set_xticklabels(lam1s, rotation=45)\n",
    "ax.set_xlabel(r'$\\lambda 1$')\n",
    "ax.xaxis.set_label_position('top')\n",
    "\n",
    "ax.set_yticks(np.arange(len(lam2s)), minor=False)\n",
    "ax.set_yticklabels(lam2s)\n",
    "ax.set_ylabel(r'$\\lambda 2$')\n",
    "\n",
    "divider = make_axes_locatable(ax)\n",
    "cax = divider.append_axes('right', size='5%', pad=0.05)\n",
    "fig.colorbar(img, cax=cax)\n",
    "\n",
    "fig.tight_layout()\n",
    "\n"
   ]
  },
  {
   "cell_type": "code",
   "execution_count": 8,
   "metadata": {},
   "outputs": [],
   "source": [
    "df=dfs[dataset_name]\n",
    "lam1=0.025\n",
    "lam2=0.0\n",
    "filter0={'evo_time':1.0,'n_trotter':10,'kernel_name':'HZZMulti','lam1':lam1,'lam2':lam2}\n",
    "lam2=0.01\n",
    "filter1={'evo_time':1.0,'n_trotter':10,'kernel_name':'HZZMulti','lam1':lam1,'lam2':lam2}\n",
    "lam2=0.05\n",
    "filter2={'evo_time':1.0,'n_trotter':10,'kernel_name':'HZZMulti','lam1':lam1,'lam2':lam2}\n",
    "\n",
    "kernels0,dims=kernel_info(df,filter0)\n",
    "kernels1,dims=kernel_info(df,filter1)\n",
    "kernels2,dims=kernel_info(df,filter2)\n"
   ]
  },
  {
   "cell_type": "code",
   "execution_count": 35,
   "metadata": {},
   "outputs": [
    {
     "data": {
      "text/plain": [
       "<matplotlib.colorbar.Colorbar at 0x7ff2aa36dd00>"
      ]
     },
     "execution_count": 35,
     "metadata": {},
     "output_type": "execute_result"
    },
    {
     "data": {
      "image/png": "[encoded data removed]",
      "text/plain": [
       "<Figure size 432x288 with 2 Axes>"
      ]
     },
     "metadata": {
      "needs_background": "light"
     },
     "output_type": "display_data"
    }
   ],
   "source": [
    "plt.imshow(kernels0[3])\n",
    "plt.colorbar()"
   ]
  },
  {
   "cell_type": "code",
   "execution_count": 39,
   "metadata": {},
   "outputs": [
    {
     "data": {
      "image/png": "[encoded data removed]",
      "text/plain": [
       "<Figure size 432x288 with 1 Axes>"
      ]
     },
     "metadata": {
      "needs_background": "light"
     },
     "output_type": "display_data"
    }
   ],
   "source": [
    "#w,v=np.linalg.eig(np.exp(-10*(kernels0[3]-np.eye(800))))\n",
    "#plt.plot(np.sort(w)[-1:780:-1])\n",
    "\n",
    "w,v=np.linalg.eig(np.exp(-10*(kernels1[3]-np.eye(800))))\n",
    "plt.plot(np.sort(w)[-1:780:-1])\n",
    "\n",
    "w,v=np.linalg.eig(np.exp(-10*(kernels2[3]-np.eye(800))))\n",
    "plt.plot(np.sort(w)[-1:780:-1])\n",
    "\n",
    "\n",
    "plt.yscale('log')\n"
   ]
  },
  {
   "cell_type": "code",
   "execution_count": null,
   "metadata": {},
   "outputs": [],
   "source": []
  }
 ],
 "metadata": {
  "interpreter": {
   "hash": "55052c4936076760cf710cd2b620e3a0b8009f80cb8b04b58f47f6aa579d5b33"
  },
  "kernelspec": {
   "display_name": "Python 3.9.0",
   "language": "python",
   "name": "python3"
  },
  "language_info": {
   "codemirror_mode": {
    "name": "ipython",
    "version": 3
   },
   "file_extension": ".py",
   "mimetype": "text/x-python",
   "name": "python",
   "nbconvert_exporter": "python",
   "pygments_lexer": "ipython3",
   "version": "3.9.0"
  },
  "orig_nbformat": 4
 },
 "nbformat": 4,
 "nbformat_minor": 2
}
