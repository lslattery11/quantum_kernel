{
 "cells": [
  {
   "cell_type": "code",
   "execution_count": null,
   "metadata": {},
   "outputs": [],
   "source": [
    "\n",
    "from tqdm import tqdm\n",
    "import pickle\n",
    "import pandas as pd\n",
    "from pathlib import Path\n",
    "import numpy as np\n",
    "import copy\n",
    "import sys\n",
    "import os\n",
    "import seaborn as sns\n",
    "import matplotlib.pyplot as plt\n",
    "from matplotlib import rc\n",
    "from mpl_toolkits.axes_grid1 import make_axes_locatable\n",
    "from sklearn.metrics.pairwise import cosine_similarity,cosine_distances\n",
    "\n",
    "sys.path.append('/mnt/c/Users/lslat/Code/')\n",
    "sys.path.append('/mnt/c/Users/lslat/QiskitProjects/VariationalWavefunction/')\n",
    "\n",
    "from quantum_kernel.code.utils import get_dataset\n",
    "from quantum_kernel.code.visualization_utils import aggregate_folder\n",
    "from quantum_kernel.code.kernel_measures import kernel_geometry\n",
    "from quantum_kernel.code.utils import compute_additional_fields\n",
    "\n",
    "font = {'family': 'DejaVu Sans',\n",
    "        'weight': 'bold',\n",
    "        'size': 18}\n",
    "\n",
    "rc('font', **font)\n",
    "\n",
    "tqdm.pandas()"
   ]
  },
  {
   "cell_type": "code",
   "execution_count": null,
   "metadata": {},
   "outputs": [],
   "source": [
    "# Get kernel results for the different ml models and dataset.d\n",
    "dfs = {}\n",
    "dataset_name='fashion-mnist'\n",
    "folders = [\n",
    "    (\"/mnt/c/Users/lslat/Data/QK_project/results/Sparse_IQPm/\"+dataset_name,'Sparse_IQPm'),\n",
    "    (\"/mnt/c/Users/lslat/Data/QK_project/results/rbf/\"+dataset_name, \"rbf\"),\n",
    "    (\"/mnt/c/Users/lslat/Data/QK_project/results/laplacian/\"+dataset_name, 'laplacian'),\n",
    "]\n",
    "\n",
    "for folder, kernel_name in folders:\n",
    "    if dataset_name in dfs:\n",
    "        temp = aggregate_folder(folder, dataset_name, kernel_name=kernel_name)[\n",
    "            dataset_name]\n",
    "        dfs[dataset_name] = pd.concat([dfs[dataset_name], temp])\n",
    "    else:\n",
    "        dfs[dataset_name] = aggregate_folder(\n",
    "            folder, dataset_name, kernel_name=kernel_name)[dataset_name]\n",
    "\n",
    "save_folder='/mnt/c/Users/lslat/Data/QK_project/figs/'\n"
   ]
  },
  {
   "cell_type": "code",
   "execution_count": null,
   "metadata": {},
   "outputs": [],
   "source": [
    "df = dfs[dataset_name]\n",
    "sparse_iqpm_df = df[(df['kernel_name'] == 'Sparse_IQPm') & (df['dataset_dim'] == 10)]\n"
   ]
  }
 ],
 "metadata": {
  "interpreter": {
   "hash": "55052c4936076760cf710cd2b620e3a0b8009f80cb8b04b58f47f6aa579d5b33"
  },
  "kernelspec": {
   "display_name": "Python 3.9.0",
   "language": "python",
   "name": "python3"
  },
  "language_info": {
   "name": "python",
   "version": "3.9.0"
  },
  "orig_nbformat": 4
 },
 "nbformat": 4,
 "nbformat_minor": 2
}
