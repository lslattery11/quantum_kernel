{
 "cells": [
  {
   "cell_type": "code",
   "execution_count": 2,
   "metadata": {},
   "outputs": [],
   "source": [
    "\n",
    "from tqdm import tqdm\n",
    "import pickle\n",
    "import pandas as pd\n",
    "from pathlib import Path\n",
    "import numpy as np\n",
    "import copy\n",
    "import sys\n",
    "import os\n",
    "import seaborn as sns\n",
    "import matplotlib.pyplot as plt\n",
    "from matplotlib import rc\n",
    "from mpl_toolkits.axes_grid1 import make_axes_locatable\n",
    "from sklearn.metrics.pairwise import cosine_similarity,cosine_distances\n",
    "\n",
    "sys.path.append('/mnt/c/Users/lslat/Code/')\n",
    "sys.path.append('/mnt/c/Users/lslat/QiskitProjects/VariationalWavefunction/')\n",
    "\n",
    "from quantum_kernel.code.utils import get_dataset\n",
    "from quantum_kernel.code.visualization_utils import aggregate_folder\n",
    "from quantum_kernel.code.kernel_measures import kernel_geometry\n",
    "from quantum_kernel.code.utils import compute_additional_fields\n",
    "\n",
    "font = {'family': 'DejaVu Sans',\n",
    "        'weight': 'bold',\n",
    "        'size': 18}\n",
    "\n",
    "rc('font', **font)\n",
    "\n",
    "tqdm.pandas()"
   ]
  },
  {
   "cell_type": "code",
   "execution_count": 7,
   "metadata": {},
   "outputs": [
    {
     "name": "stderr",
     "output_type": "stream",
     "text": [
      "100%|██████████| 10/10 [03:08<00:00, 18.84s/it]\n"
     ]
    },
    {
     "name": "stdout",
     "output_type": "stream",
     "text": [
      "For /mnt/c/Users/lslat/Data/QK_project/results/hproj_Sparse_IQP/fashion-mnist, saving aggregated pickle in /mnt/c/Users/lslat/Data/QK_project/results/hproj_Sparse_IQP/fashion-mnist/aggregated.p\n"
     ]
    }
   ],
   "source": [
    "# Get kernel results for the different ml models and dataset.d\n",
    "dfs = {}\n",
    "dataset_name='fashion-mnist'\n",
    "folders = [\n",
    "    (\"/mnt/c/Users/lslat/Data/QK_project/results/Sparse_IQPm/\"+dataset_name,'Sparse_IQPm',False),\n",
    "    (\"/mnt/c/Users/lslat/Data/QK_project/results/hproj_Sparse_IQP/\"+dataset_name,'Sparse_IQPm',True),\n",
    "\n",
    "]\n",
    "\n",
    "for folder, kernel_name,projected in folders:\n",
    "    if dataset_name in dfs:\n",
    "        temp = aggregate_folder(folder, dataset_name, kernel_name=kernel_name,projected=projected)[\n",
    "            dataset_name]\n",
    "        dfs[dataset_name] = pd.concat([dfs[dataset_name], temp])\n",
    "    else:\n",
    "        dfs[dataset_name] = aggregate_folder(folder, dataset_name, kernel_name=kernel_name,projected=projected)[dataset_name]\n",
    "\n",
    "save_folder='/mnt/c/Users/lslat/Data/QK_project/figs/'\n"
   ]
  },
  {
   "cell_type": "code",
   "execution_count": 12,
   "metadata": {},
   "outputs": [],
   "source": [
    "df = dfs[dataset_name]\n",
    "iqpm_df = df[(df['kernel_name'] == 'Sparse_IQPm') & (df['dataset_dim'] == 18) & (df['projected']=='') & (df['log_int_scaling_factor']==0.0)]\n",
    "proj_iqpm_df = df[(df['kernel_name'] == 'Sparse_IQPm') & (df['dataset_dim'] == 18) & (df['projected']=='huang_proj') & (df['log_int_scaling_factor']==0.0)]"
   ]
  },
  {
   "cell_type": "code",
   "execution_count": 37,
   "metadata": {},
   "outputs": [
    {
     "data": {
      "text/plain": [
       "0    [[1.0, 0.9429818145022381, 0.9641603991274619,...\n",
       "1    [[1.0, 0.9765089891762007, 0.9854928091344793,...\n",
       "2    [[1.0, 0.9293276400628461, 0.9542529266094677,...\n",
       "3    [[1.0, 0.9967863098142177, 0.997807899227251, ...\n",
       "4    [[1.0, 0.9148824864004336, 0.9319865190947659,...\n",
       "5    [[1.0, 0.3307660550809476, 0.19548622109064487...\n",
       "6    [[1.0, 0.7004609401710218, 0.681157495259793, ...\n",
       "7    [[1.0, 0.6048104287459612, 0.5716059097952223,...\n",
       "8    [[1.0, 0.33808396086770454, 0.4782822529616101...\n",
       "9    [[1.0, 0.7420917400560543, 0.7525548547602615,...\n",
       "dtype: object"
      ]
     },
     "execution_count": 37,
     "metadata": {},
     "output_type": "execute_result"
    }
   ],
   "source": [
    "proj_iqpm_df['train_matrix']=proj_iqpm_df.apply(lambda x: np.exp(-x['proj_gamma']*x['qkern_matrix_train']),axis=1)"
   ]
  },
  {
   "cell_type": "code",
   "execution_count": null,
   "metadata": {},
   "outputs": [],
   "source": [
    "df1 = iqpm_df[['log_scaling_factor', 'qkern_matrix_train']]\n",
    "df2 = proj_iqpm_df[['log_scaling_factor', 'train_matrix']]\n",
    "# compute the metric matrix and the list of sorted hyperparameters\n",
    "h1s, h2s, metric_matrix = kernel_geometry.compute_metric_matrix(df1, df2, metric='geometric_difference')\n",
    "# compute the reverse\n",
    "rh1s, rh2s, rmetric_matrix = kernel_geometry.compute_metric_matrix(df2, df1, metric='geometric_difference')"
   ]
  },
  {
   "cell_type": "code",
   "execution_count": null,
   "metadata": {},
   "outputs": [],
   "source": [
    "fig, axs = plt.subplots(2, 2, figsize=(18, 18))\n",
    "# Plot the geometric difference matrix\n",
    "ax = axs[0][0]\n",
    "img = ax.imshow(np.log(metric_matrix))\n",
    "\n",
    "ax.xaxis.tick_top()\n",
    "ax.set_xticks(np.arange(h1s.shape[0]), minor=False)\n",
    "ax.set_xticklabels(h1s, rotation=45)\n",
    "ax.set_xlabel(r'$\\gamma_{rbf}$')\n",
    "ax.xaxis.set_label_position('top')\n",
    "\n",
    "ax.set_yticks(np.arange(h2s.shape[0]), minor=False)\n",
    "ax.set_yticklabels(h2s)\n",
    "ax.set_ylabel(r'$log(\\lambda_{IQP})$')\n",
    "\n",
    "divider = make_axes_locatable(ax)\n",
    "cax = divider.append_axes('right', size='5%', pad=0.05)\n",
    "fig.colorbar(img, cax=cax)\n",
    "ax.set_title(r'$\\log{g(K_{rbf}||K_{IQP})}$')\n",
    "# Now plot the reverse geometric difference matrix\n",
    "ax = axs[0][1]\n",
    "img = ax.imshow(np.log(rmetric_matrix))\n",
    "\n",
    "ax.xaxis.tick_top()\n",
    "ax.set_xticks(np.arange(rh1s.shape[0]), minor=False)\n",
    "ax.set_xticklabels(rh1s, rotation=45)\n",
    "ax.set_xlabel(r'$log(\\lambda_{IQP})$')\n",
    "ax.xaxis.set_label_position('top')\n",
    "\n",
    "ax.set_yticks(np.arange(rh2s.shape[0]), minor=False)\n",
    "ax.set_yticklabels(rh2s)\n",
    "ax.set_ylabel(r'$\\gamma_{rbf}$')\n",
    "\n",
    "divider = make_axes_locatable(ax)\n",
    "cax = divider.append_axes('right', size='5%', pad=0.05)\n",
    "fig.colorbar(img, cax=cax)\n",
    "ax.set_title(r'$\\log{g(K_{IQP}||K_{rbf})}$')\n",
    "# Plot the test score as a function of gamma for the RBF kernel.\n",
    "ax = axs[1][0]\n",
    "x = h1s\n",
    "y = np.array([iqpm_df['test_score'].loc[iqpm_df['gamma'] == h1].values[0]\n",
    "             for h1 in h1s])\n",
    "img = ax.plot(y)\n",
    "\n",
    "ax.set_xticks(np.arange(h1s.shape[0]), minor=False)\n",
    "ax.set_xticklabels(h1s, rotation=45)\n",
    "ax.set_xlabel(r'$\\gamma_{rbf}$')\n",
    "\n",
    "ax.set_ylabel('Test score')\n",
    "\n",
    "ax.set_title('RBF kernel test score')\n",
    "# Plot the test score as a function of gamma for the Laplacian Kernel.\n",
    "ax = axs[1][1]\n",
    "x = h2s\n",
    "y = np.array([proj_iqpm_df['test_score'].loc[proj_iqpm_df['log_scaling_factor']\n",
    "             == h2].values[0] for h2 in h2s])\n",
    "img = ax.plot(y)\n",
    "\n",
    "ax.set_xticks(np.arange(h2s.shape[0]), minor=False)\n",
    "ax.set_xticklabels(h2s, rotation=45)\n",
    "ax.set_xlabel(r'$log(\\lambda_{IQP})$')\n",
    "\n",
    "ax.set_ylabel('Test score')\n",
    "\n",
    "ax.set_title('IQP kernel test score')\n",
    "\n",
    "####\n",
    "# plt.subplots_adjust(hspace=-0.6,wspace=0.4)\n",
    "fig.tight_layout()\n",
    "#fig.savefig(f'{save_folder}{dataset_name}_geometric_difference_IQP_rbf.pdf')"
   ]
  }
 ],
 "metadata": {
  "interpreter": {
   "hash": "55052c4936076760cf710cd2b620e3a0b8009f80cb8b04b58f47f6aa579d5b33"
  },
  "kernelspec": {
   "display_name": "Python 3.9.0",
   "language": "python",
   "name": "python3"
  },
  "language_info": {
   "codemirror_mode": {
    "name": "ipython",
    "version": 3
   },
   "file_extension": ".py",
   "mimetype": "text/x-python",
   "name": "python",
   "nbconvert_exporter": "python",
   "pygments_lexer": "ipython3",
   "version": "3.9.0"
  },
  "orig_nbformat": 4
 },
 "nbformat": 4,
 "nbformat_minor": 2
}
