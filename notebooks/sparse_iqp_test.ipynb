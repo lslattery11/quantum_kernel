{
 "cells": [
  {
   "cell_type": "code",
   "execution_count": 1,
   "metadata": {},
   "outputs": [],
   "source": [
    "import sys\n",
    "sys.path.append('C:/Users/lslat/Code/')\n",
    "sys.path.append('/mnt/c/Users/lslat/Code/')\n",
    "from quantum_kernel.code.feature_maps import IQP\n",
    "from quantum_kernel.code.feature_maps import Heisenberg\n",
    "from qiskit.circuit.library.data_preparation.pauli_feature_map import PauliFeatureMap"
   ]
  },
  {
   "cell_type": "code",
   "execution_count": 2,
   "metadata": {},
   "outputs": [],
   "source": [
    "#test=IQP.Sparse_IQP(4,2,'full','max')\n",
    "#test=PauliFeatureMap(4,2,'linear')\n",
    "test=IQP.Sparse_IQP(6,1,\"full\",0)"
   ]
  },
  {
   "cell_type": "code",
   "execution_count": 3,
   "metadata": {},
   "outputs": [
    {
     "data": {
      "text/html": [
       "<pre style=\"word-wrap: normal;white-space: pre;background: #fff0;line-height: 1.1;font-family: &quot;Courier New&quot;,Courier,monospace\">     ┌───┐┌─────────────┐\n",
       "q_0: ┤ H ├┤ P(2.0*x[0]) ├\n",
       "     ├───┤├─────────────┤\n",
       "q_1: ┤ H ├┤ P(2.0*x[1]) ├\n",
       "     ├───┤├─────────────┤\n",
       "q_2: ┤ H ├┤ P(2.0*x[2]) ├\n",
       "     ├───┤├─────────────┤\n",
       "q_3: ┤ H ├┤ P(2.0*x[3]) ├\n",
       "     ├───┤├─────────────┤\n",
       "q_4: ┤ H ├┤ P(2.0*x[4]) ├\n",
       "     ├───┤├─────────────┤\n",
       "q_5: ┤ H ├┤ P(2.0*x[5]) ├\n",
       "     └───┘└─────────────┘</pre>"
      ],
      "text/plain": [
       "     ┌───┐┌─────────────┐\n",
       "q_0: ┤ H ├┤ P(2.0*x[0]) ├\n",
       "     ├───┤├─────────────┤\n",
       "q_1: ┤ H ├┤ P(2.0*x[1]) ├\n",
       "     ├───┤├─────────────┤\n",
       "q_2: ┤ H ├┤ P(2.0*x[2]) ├\n",
       "     ├───┤├─────────────┤\n",
       "q_3: ┤ H ├┤ P(2.0*x[3]) ├\n",
       "     ├───┤├─────────────┤\n",
       "q_4: ┤ H ├┤ P(2.0*x[4]) ├\n",
       "     ├───┤├─────────────┤\n",
       "q_5: ┤ H ├┤ P(2.0*x[5]) ├\n",
       "     └───┘└─────────────┘"
      ]
     },
     "execution_count": 3,
     "metadata": {},
     "output_type": "execute_result"
    }
   ],
   "source": [
    "test.decompose().draw()"
   ]
  },
  {
   "cell_type": "code",
   "execution_count": 4,
   "metadata": {},
   "outputs": [],
   "source": [
    "test2=Heisenberg.Heisenberg1DFeatureMap(6,1,0.2,'Haar_random',0,2,0.0)"
   ]
  },
  {
   "cell_type": "code",
   "execution_count": 5,
   "metadata": {},
   "outputs": [
    {
     "data": {
      "text/plain": [
       "6"
      ]
     },
     "execution_count": 5,
     "metadata": {},
     "output_type": "execute_result"
    }
   ],
   "source": [
    "test2.decompose().draw()"
   ]
  }
 ],
 "metadata": {
  "interpreter": {
   "hash": "a2b0dcea2e0ef56272b4269c5b0f3247e38aee46dade24d78edb9c2bc474d938"
  },
  "kernelspec": {
   "display_name": "Python 3.7.9 ('quantum_kernel')",
   "language": "python",
   "name": "python3"
  },
  "language_info": {
   "codemirror_mode": {
    "name": "ipython",
    "version": 3
   },
   "file_extension": ".py",
   "mimetype": "text/x-python",
   "name": "python",
   "nbconvert_exporter": "python",
   "pygments_lexer": "ipython3",
   "version": "3.9.12"
  },
  "orig_nbformat": 4
 },
 "nbformat": 4,
 "nbformat_minor": 2
}
