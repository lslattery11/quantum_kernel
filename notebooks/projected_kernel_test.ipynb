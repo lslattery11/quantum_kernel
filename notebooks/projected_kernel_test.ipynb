{
 "cells": [
  {
   "cell_type": "code",
   "execution_count": null,
   "metadata": {},
   "outputs": [],
   "source": [
    "import sys\n",
    "sys.path.append('C:/Users/lslat/Code/')\n",
    "sys.path.append('/mnt/c/Users/lslat/Code/')\n",
    "from quantum_kernel.code.feature_maps import IQP\n",
    "from quantum_kernel.code.feature_maps import Heisenberg\n",
    "from qiskit.circuit.library.data_preparation.pauli_feature_map import PauliFeatureMap\n",
    "from quantum_kernel.code.utils import get_quantum_kernel"
   ]
  }
 ],
 "metadata": {
  "language_info": {
   "name": "python"
  },
  "orig_nbformat": 4
 },
 "nbformat": 4,
 "nbformat_minor": 2
}
